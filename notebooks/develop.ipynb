{
 "cells": [
  {
   "cell_type": "code",
   "execution_count": 1,
   "id": "5654ee86",
   "metadata": {},
   "outputs": [],
   "source": [
    "import numpy as np\n",
    "import pandas as pd\n",
    "import matplotlib.pyplot as plt\n",
    "import os\n",
    "import plotly.graph_objects as go\n",
    "from plotly.subplots import make_subplots"
   ]
  },
  {
   "cell_type": "code",
   "execution_count": 19,
   "id": "8b313936",
   "metadata": {},
   "outputs": [],
   "source": [
    "dict_margin = {'AD': 3000, 'BP': 3000, 'C': 2000, 'CD': 3000, 'CL': 18000, 'EC': 3800, 'ES': 13000, 'FDAX': 40000, 'GC': 15000, 'HG': 10000, 'NG': 5000, 'NQ': 23000,\n",
    "               'RTY': 8000, 'S': 4000, 'VX': 26000, 'VXX': 900, 'YM': 15000}"
   ]
  },
  {
   "cell_type": "code",
   "execution_count": 3,
   "id": "9abba2aa",
   "metadata": {},
   "outputs": [],
   "source": [
    "def compute_np_dd(daily_profit: np.array) -> tuple[np.array, np.array, np.array]:\n",
    "    '''\n",
    "    Function to compute NP, equity peak and DD as functions of time.\n",
    "\n",
    "    Args:\n",
    "        daily_profit: Array containing the daily profit.\n",
    "    \n",
    "    Returns:\n",
    "        cum_profit: Array containing cumulated profit over time.\n",
    "        max_equity: Array containing equity peak over time.\n",
    "        dd: Array containing drawdown over time.\n",
    "    '''\n",
    "    cum_profit = daily_profit.cumsum()\n",
    "    max_equity = pd.Series(cum_profit).cummax().values\n",
    "    dd = cum_profit - max_equity\n",
    "    #\n",
    "    return cum_profit, max_equity, dd\n",
    "\n",
    "def correlation_classic(data_1: np.array, data_2: np.array) -> float:\n",
    "    '''\n",
    "    Function to compute the correlation between two strategies as lag-0 cross-correlation.\n",
    "\n",
    "    Args:\n",
    "        data_1: Array containing two columns: the first one are the dates, and the second one the P/L.\n",
    "        data_2: Array containing two columns: the first one are the dates, and the second one the P/L.\n",
    "\n",
    "    Returns:\n",
    "        corr: Correlation coefficient.\n",
    "    '''\n",
    "    # get common dates and slice data\n",
    "    _, idx_1, idx_2 = np.intersect1d(data_1['date'].values, data_2['date'].values, return_indices = True)\n",
    "    data_1 = data_1.loc[idx_1, 'daily_profit'].astype(float)\n",
    "    data_2 = data_2.loc[idx_2, 'daily_profit'].astype(float)\n",
    "    n = data_1.shape[0]\n",
    "    # mean values and standard deviations\n",
    "    mu_1 = data_1.mean()\n",
    "    mu_2 = data_2.mean()\n",
    "    sigma_1 = data_1.std()\n",
    "    sigma_2 = data_2.std()\n",
    "    # compute correlation\n",
    "    corr = 1/(n*sigma_1*sigma_2)*np.sum((data_1 - mu_1)*(data_2 - mu_2))\n",
    "    #\n",
    "    return corr\n",
    "\n",
    "def _read_strats():\n",
    "    '''\n",
    "    Function to import strategies results.\n",
    "    '''\n",
    "    dict_results = {}\n",
    "    for strat in list_strat:#self.dict_strat.keys():\n",
    "        instrument = strat.split('_')[0]\n",
    "        # read data\n",
    "        with open(f'../reports/{strat}') as f:\n",
    "            data = f.readlines()\n",
    "        data = np.array([i.split(' ') for i in data])\n",
    "        # get strategy parameters\n",
    "        dates = pd.to_datetime(data[:, 0], format = '%d/%m/%Y')\n",
    "        daily_profit = data[:, 1].astype(float)\n",
    "        curr_contract = data[:, 2].astype(float)*dict_strat[strat]\n",
    "        n_trades = data[:, 5].astype(int)\n",
    "        # build dataframe\n",
    "        df = pd.DataFrame({'date': dates, 'daily_profit': daily_profit, 'curr_contract': curr_contract, 'n_trades': n_trades})\n",
    "        df['margin'] = dict_margin[instrument]*df['curr_contract'].abs()\n",
    "        dict_results[strat] = df\n",
    "    return dict_results\n",
    "\n",
    "def portfolio_performance(dict_strat_vol: dict, date_start: str = None, date_end: str = None) -> pd.DataFrame:\n",
    "        '''\n",
    "        Function to compute the performance of a portfolio.\n",
    "        \n",
    "        Args:\n",
    "            dict_strat_vol: Dictionary containing the number of contracts used for each strategy in the portfolio.\n",
    "            date_start: First date to be considered.\n",
    "            date_end: Last date to be considered.\n",
    "\n",
    "        Returns:\n",
    "            df_portfolio: Dataframe containing the portfolio performance.\n",
    "        '''\n",
    "        #\n",
    "        df_portfolio = {instr: [] for instr in np.unique([strat.split('_')[0] for strat in dict_strat_vol.keys()])}\n",
    "        for i in range(len(dict_strat_vol)):\n",
    "            # get strategy features\n",
    "            strategy = list(dict_strat_vol.keys())[i]\n",
    "            instrument = strategy.split('_')[0]\n",
    "            n_contracts = dict_strat_vol[strategy]\n",
    "            #\n",
    "            df_temp = dict_results[strategy]\n",
    "            # keep relevant dates\n",
    "            df_temp = df_temp[(df_temp['date'] >= date_start) & (df_temp['date'] < date_end)].reset_index(drop = True)\n",
    "            # adjust profit and margins by number of contracts\n",
    "            df_temp['daily_profit'] *= n_contracts\n",
    "            df_temp['margin'] *= n_contracts*np.sign(df_temp['curr_contract'])\n",
    "            # combine portfolio strategies\n",
    "            df_temp.index = df_temp['date']\n",
    "            df_portfolio[instrument].append(df_temp)\n",
    "        df_portfolio = {instr: performance for instr, performance in df_portfolio.items() if len(performance) > 0}\n",
    "        # combine performances for each instrument\n",
    "        for instr in df_portfolio.keys():\n",
    "            df_portfolio[instr] = pd.concat(df_portfolio[instr], axis = 1)\n",
    "            if type(df_portfolio[instr]['daily_profit']) == pd.DataFrame:\n",
    "                df_portfolio[instr]['daily_profit'] = df_portfolio[instr]['daily_profit'].sum(axis = 1)\n",
    "            if type(df_portfolio[instr]['margin']) == pd.DataFrame:\n",
    "                df_portfolio[instr]['margin'] = df_portfolio[instr]['margin'].sum(axis = 1)\n",
    "            df_portfolio[instr] = df_portfolio[instr].loc[:, ~df_portfolio[instr].columns.duplicated()][['date', 'daily_profit', 'margin']]\n",
    "            df_portfolio[instr]['margin'] = abs(df_portfolio[instr]['margin'])\n",
    "        # compute aggregated performance\n",
    "        df_portfolio = [value for value in df_portfolio.values()]\n",
    "        df_portfolio = pd.concat(df_portfolio, axis = 1)\n",
    "        if type(df_portfolio['daily_profit']) == pd.DataFrame:\n",
    "            df_portfolio['daily_profit'] = df_portfolio['daily_profit'].sum(axis = 1)\n",
    "        if type(df_portfolio['margin']) == pd.DataFrame:\n",
    "            df_portfolio['margin'] = df_portfolio['margin'].sum(axis = 1)\n",
    "        df_portfolio = df_portfolio.loc[:, ~df_portfolio.columns.duplicated()][['date', 'daily_profit', 'margin']]\n",
    "        # add portfolio cumulative statistics\n",
    "        df_portfolio['cum_profit'], df_portfolio['max_equity'], df_portfolio['dd'] = compute_np_dd(df_portfolio['daily_profit'])\n",
    "        #\n",
    "        return df_portfolio.reset_index(drop = True).sort_values(by = 'date')"
   ]
  },
  {
   "cell_type": "code",
   "execution_count": 162,
   "id": "ec025ce3-b1ca-43c4-b484-bc6bf7ec1a0c",
   "metadata": {},
   "outputs": [],
   "source": [
    "list_strat = np.random.choice([i for i in os.listdir('../reports/') if ('TSLA' not in i) and ('GOOG' not in i)], 3)\n",
    "dict_results = {}\n",
    "for strat in list_strat:\n",
    "    df = pd.read_csv('../reports/' + strat, delimiter = ' ', header = None)\n",
    "    df['margin'] = dict_margin[strat.split('_')[0]]*df[2]\n",
    "    df = df[[0, 1, 2, 'margin']]\n",
    "    df.columns = ['date', 'daily_profit', 'curr_contract', 'margin']\n",
    "    df['date'] = pd.to_datetime(df['date'], format = '%d/%m/%Y')\n",
    "    df['cum_profit'], _, df['dd'] = compute_np_dd(df['daily_profit'])\n",
    "    dict_results[strat] = df\n",
    "first_date = max([i['date'].min() for i in dict_results.values()])\n",
    "for strat in dict_results.keys():\n",
    "    dict_results[strat] = dict_results[strat][dict_results[strat]['date'] >= first_date].reset_index(drop = True)\n",
    "df_port = portfolio_performance({strat: 1 for strat in dict_results.keys()}, date_start = first_date, date_end = '2025-01-01')"
   ]
  },
  {
   "cell_type": "code",
   "execution_count": 163,
   "id": "33329a59-762a-4caa-b6ab-f8a54b0a2228",
   "metadata": {},
   "outputs": [
    {
     "data": {
      "text/plain": [
       "[<matplotlib.lines.Line2D at 0x1fb965d9c30>]"
      ]
     },
     "execution_count": 163,
     "metadata": {},
     "output_type": "execute_result"
    },
    {
     "data": {
      "image/png": "[encoded data removed]",
      "text/plain": [
       "<Figure size 640x480 with 1 Axes>"
      ]
     },
     "metadata": {},
     "output_type": "display_data"
    }
   ],
   "source": [
    "plt.figure()\n",
    "list_mc = []\n",
    "for i in range(100):\n",
    "    df_temp = df_port.copy()\n",
    "    shuffle_idx = np.random.choice(range(df_temp.shape[0]), df_temp.shape[0], replace = False)\n",
    "    df_temp['daily_profit'] = df_temp.loc[shuffle_idx, 'daily_profit'].values\n",
    "    df_temp['daily_profit'] *= (1 + np.random.rand(df_temp.shape[0])*0.2 - 0.1)\n",
    "    df_temp['cum_profit'], _, df_temp['dd'] = compute_np_dd(df_temp['daily_profit'])\n",
    "    list_mc.append(df_temp)\n",
    "    plt.plot(df_temp['date'], df_temp['cum_profit'], c = 'gray', alpha = 0.5)\n",
    "plt.plot(df_port['date'], df_port['cum_profit'], c = 'b')"
   ]
  },
  {
   "cell_type": "code",
   "execution_count": 217,
   "id": "b37afd37-8584-46d5-9442-ad5a68604e1a",
   "metadata": {},
   "outputs": [
    {
     "data": {
      "text/plain": [
       "[<matplotlib.lines.Line2D at 0x1fba966f430>]"
      ]
     },
     "execution_count": 217,
     "metadata": {},
     "output_type": "execute_result"
    },
    {
     "data": {
      "image/png": "[encoded data removed]",
      "text/plain": [
       "<Figure size 640x480 with 1 Axes>"
      ]
     },
     "metadata": {},
     "output_type": "display_data"
    }
   ],
   "source": [
    "plt.figure()\n",
    "list_mc = []\n",
    "for i in range(100):\n",
    "    dict_results = {}\n",
    "    for strat in list_strat:\n",
    "        df = pd.read_csv('../reports/' + strat, delimiter = ' ', header = None)\n",
    "        df['margin'] = dict_margin[strat.split('_')[0]]*df[2]\n",
    "        df = df[[0, 1, 2, 'margin']]\n",
    "        df.columns = ['date', 'daily_profit', 'curr_contract', 'margin']\n",
    "        df['date'] = pd.to_datetime(df['date'], format = '%d/%m/%Y')\n",
    "        shuffle_idx = np.random.choice(range(df.shape[0]), df.shape[0], replace = False)\n",
    "        df['daily_profit'] = df.loc[shuffle_idx, 'daily_profit'].values\n",
    "        df['daily_profit'] *= (1 + np.random.rand(df.shape[0])*0.2 - 0.1)\n",
    "        dict_results[strat] = df\n",
    "    first_date = max([i['date'].min() for i in dict_results.values()])\n",
    "    for strat in dict_results.keys():\n",
    "        dict_results[strat] = dict_results[strat][dict_results[strat]['date'] >= first_date].reset_index(drop = True)\n",
    "    df_temp = portfolio_performance({strat: 1 for strat in dict_results.keys()}, date_start = first_date, date_end = '2025-01-01')\n",
    "    df_temp['cum_profit'], _, df_temp['dd'] = compute_np_dd(df_temp['daily_profit'])\n",
    "    list_mc.append(df_temp)\n",
    "    plt.plot(df_temp['date'], df_temp['cum_profit'], c = 'gray', alpha = 0.5)\n",
    "plt.plot(df_port['date'], df_port['cum_profit'], c = 'b')"
   ]
  },
  {
   "cell_type": "code",
   "execution_count": 218,
   "id": "e7993ceb-618b-4dc4-94a9-1d9c346fb240",
   "metadata": {},
   "outputs": [
    {
     "data": {
      "application/vnd.plotly.v1+json": {
       "config": {
        "plotlyServerURL": "https://plot.ly"
       },
       "data": [
        {
         "line": {
          "color": "blue"
         },
         "mode": "lines",
         "type": "scatter",
         "x": [
          0,
          1,
          2,
          3,
          4,
          5,
          6,
          7,
          8,
          9,
          10,
          11,
          12,
          13,
          14,
          15,
          16,
          17,
          18,
          19,
          20,
          21,
          22,
          23,
          24,
          25,
          26,
          27,
          28,
          29,
          30,
          31,
          32,
          33,
          34,
          35,
          36,
          37,
          38,
          39,
          40,
          41,
          42,
          43,
          44,
          45,
          46,
          47,
          48,
          49,
          50,
          51,
          52,
          53,
          54,
          55,
          56,
          57,
          58,
          59,
          60,
          61,
          62,
          63,
          64,
          65,
          66,
          67,
          68,
          69,
          70,
          71,
          72,
          73,
          74,
          75,
          76,
          77,
          78,
          79,
          80,
          81,
          82,
          83,
          84,
          85,
          86,
          87,
          88,
          89,
          90,
          91,
          92,
          93,
          94,
          95,
          96,
          97,
          98,
          99
         ],
         "xaxis": "x",
         "y": [
          670150.0268249388,
          674679.6764782837,
          680580.803735823,
          681703.2597006302,
          682501.0037799058,
          683569.134540277,
          684244.2463343465,
          684710.86659685,
          685303.0759648744,
          686527.5698006318,
          688145.4660260279,
          689818.7052425072,
          690833.8031510257,
          691131.0843721583,
          691825.4425401546,
          691849.6642922921,
          691990.4464456114,
          692270.4558573883,
          692475.5968335825,
          692591.5229189331,
          692905.6880148893,
          693052.1900851071,
          694100.9380011236,
          694260.0602281826,
          694964.3264309132,
          695277.2451079926,
          696104.0539996289,
          696141.2525909955,
          696305.6263745389,
          696390.2326445224,
          697072.5799269615,
          697987.2005201092,
          698467.4343352956,
          698647.2347071349,
          698991.138719358,
          699040.5744702229,
          699313.9198788174,
          699429.8290218215,
          699615.3303063167,
          699821.0674693258,
          700020.3083728853,
          700154.5434478392,
          700438.6490853835,
          702785.2741711594,
          702803.8222168557,
          703129.5533733977,
          703246.2613514846,
          704206.7512613089,
          704251.325087799,
          704690.6662150256,
          705331.8517545351,
          705679.1534097275,
          705904.7048502297,
          706018.6821233475,
          706149.892953852,
          706606.1423301894,
          707061.7062049505,
          707456.6273661602,
          707896.502096507,
          708986.7754246463,
          709884.5725038307,
          710367.281394765,
          710418.4111072475,
          710634.4549298261,
          710930.0577400556,
          712360.9059878462,
          713385.9066105875,
          713514.6754619488,
          713722.483944942,
          714016.9829192954,
          715680.02704997,
          715750.0286880545,
          716846.193002738,
          716998.3982675374,
          717020.6644871415,
          717662.3142844174,
          718360.3626838926,
          718467.7090629468,
          718655.0291867498,
          719013.773213458,
          719800.2014780903,
          719870.3644266457,
          720605.3953384692,
          722143.5672701347,
          722442.3135968038,
          722566.456248661,
          725298.8688487398,
          725654.8929006193,
          726703.8083704332,
          726886.164674019,
          728557.2309185594,
          728875.3376485062,
          729155.9124885305,
          729607.6723873683,
          730638.667589797,
          730843.5342495955,
          732876.6471910937,
          734337.8534303249,
          736520.9923683736,
          739072.7879532202
         ],
         "yaxis": "y"
        },
        {
         "marker": {
          "color": "red",
          "size": 10
         },
         "type": "scatter",
         "x": [
          82
         ],
         "xaxis": "x",
         "y": [
          720775
         ],
         "yaxis": "y"
        },
        {
         "line": {
          "color": "grey",
          "dash": "dash"
         },
         "mode": "lines",
         "type": "scatter",
         "x": [
          0,
          50
         ],
         "xaxis": "x",
         "y": [
          705011.2589847804,
          705011.2589847804
         ],
         "yaxis": "y"
        },
        {
         "line": {
          "color": "grey",
          "dash": "dot"
         },
         "mode": "lines",
         "type": "scatter",
         "x": [
          0,
          25
         ],
         "xaxis": "x",
         "y": [
          695199.0154387227,
          695199.0154387227
         ],
         "yaxis": "y"
        },
        {
         "line": {
          "color": "grey",
          "dash": "dot"
         },
         "mode": "lines",
         "type": "scatter",
         "x": [
          0,
          74
         ],
         "xaxis": "x",
         "y": [
          717181.0769364606,
          717181.0769364606
         ],
         "yaxis": "y"
        },
        {
         "line": {
          "color": "blue"
         },
         "mode": "lines",
         "type": "scatter",
         "x": [
          0,
          1,
          2,
          3,
          4,
          5,
          6,
          7,
          8,
          9,
          10,
          11,
          12,
          13,
          14,
          15,
          16,
          17,
          18,
          19,
          20,
          21,
          22,
          23,
          24,
          25,
          26,
          27,
          28,
          29,
          30,
          31,
          32,
          33,
          34,
          35,
          36,
          37,
          38,
          39,
          40,
          41,
          42,
          43,
          44,
          45,
          46,
          47,
          48,
          49,
          50,
          51,
          52,
          53,
          54,
          55,
          56,
          57,
          58,
          59,
          60,
          61,
          62,
          63,
          64,
          65,
          66,
          67,
          68,
          69,
          70,
          71,
          72,
          73,
          74,
          75,
          76,
          77,
          78,
          79,
          80,
          81,
          82,
          83,
          84,
          85,
          86,
          87,
          88,
          89,
          90,
          91,
          92,
          93,
          94,
          95,
          96,
          97,
          98,
          99
         ],
         "xaxis": "x2",
         "y": [
          27497.456099454255,
          27792.65745221678,
          29181.23028059036,
          29345.895383358584,
          29353.217673309686,
          29964.25937532005,
          30107.154518736876,
          31124.279227033374,
          31265.495111515927,
          32083.307033722172,
          32708.50648846604,
          32772.57165657448,
          32990.90592982323,
          33144.960508390795,
          33162.31606948946,
          33321.62040014271,
          33484.06349057512,
          33566.76833021082,
          33638.47128389393,
          33979.47208082548,
          34257.6713647675,
          34318.28433067177,
          34366.36131073296,
          34550.57025941461,
          34621.57798089145,
          35074.76241860888,
          35135.15196917381,
          35234.11656117672,
          35271.03570638824,
          35569.34010860848,
          36043.499198050995,
          36175.3258360452,
          36304.82907979016,
          36382.34028308967,
          36687.76593628817,
          36693.282900374455,
          36772.369307762885,
          37292.49826404493,
          37531.92856169562,
          37545.98006291789,
          37613.72393397696,
          39285.96596160505,
          40219.79797682294,
          40259.06365727389,
          40283.427109352546,
          40305.03954987967,
          40497.20940188621,
          40923.51229067886,
          41352.58574799338,
          41362.853634669096,
          41728.06963325214,
          41845.01572297269,
          41891.33749189146,
          42231.8727987177,
          42603.71568537096,
          42717.93661689919,
          42752.02768551611,
          43066.736534178024,
          43084.21156728559,
          43430.36467768048,
          43720.16059483177,
          44303.8594102581,
          44422.712544537964,
          44449.25495114934,
          44525.3158881257,
          44637.45643916536,
          44923.8853890508,
          45697.902169640394,
          45827.13513587811,
          47590.61821687536,
          47996.048997451784,
          48371.220075261954,
          48443.82835102291,
          49215.27738387324,
          49784.871086316954,
          49910.02681006669,
          50238.87788672547,
          50344.0868700013,
          50714.11634489754,
          51355.999981136236,
          51377.06443299953,
          51907.34425551677,
          52159.40150757937,
          52788.02200786874,
          53238.17479903062,
          53419.64561378176,
          54196.776802742796,
          55225.11730528326,
          55797.2108222231,
          56897.937704612756,
          58379.19227661367,
          59927.83041939349,
          60714.733651096234,
          61843.34689509323,
          61885.25043619996,
          61935.72861473373,
          65706.30416786362,
          72553.58497548658,
          76312.86037566111,
          87514.4058422324
         ],
         "yaxis": "y2"
        },
        {
         "marker": {
          "color": "red",
          "size": 10
         },
         "type": "scatter",
         "x": [
          68
         ],
         "xaxis": "x2",
         "y": [
          45800
         ],
         "yaxis": "y2"
        },
        {
         "line": {
          "color": "grey",
          "dash": "dash"
         },
         "mode": "lines",
         "type": "scatter",
         "x": [
          0,
          49
         ],
         "xaxis": "x2",
         "y": [
          41545.461633960615,
          41545.461633960615
         ],
         "yaxis": "y2"
        },
        {
         "line": {
          "color": "grey",
          "dash": "dot"
         },
         "mode": "lines",
         "type": "scatter",
         "x": [
          0,
          25
         ],
         "xaxis": "x2",
         "y": [
          34961.46630917952,
          34961.46630917952
         ],
         "yaxis": "y2"
        },
        {
         "line": {
          "color": "grey",
          "dash": "dot"
         },
         "mode": "lines",
         "type": "scatter",
         "x": [
          0,
          74
         ],
         "xaxis": "x2",
         "y": [
          49816.160017254384,
          49816.160017254384
         ],
         "yaxis": "y2"
        },
        {
         "line": {
          "color": "blue"
         },
         "mode": "lines",
         "type": "scatter",
         "x": [
          0,
          1,
          2,
          3,
          4,
          5,
          6,
          7,
          8,
          9,
          10,
          11,
          12,
          13,
          14,
          15,
          16,
          17,
          18,
          19,
          20,
          21,
          22,
          23,
          24,
          25,
          26,
          27,
          28,
          29,
          30,
          31,
          32,
          33,
          34,
          35,
          36,
          37,
          38,
          39,
          40,
          41,
          42,
          43,
          44,
          45,
          46,
          47,
          48,
          49,
          50,
          51,
          52,
          53,
          54,
          55,
          56,
          57,
          58,
          59,
          60,
          61,
          62,
          63,
          64,
          65,
          66,
          67,
          68,
          69,
          70,
          71,
          72,
          73,
          74,
          75,
          76,
          77,
          78,
          79,
          80,
          81,
          82,
          83,
          84,
          85,
          86,
          87,
          88,
          89,
          90,
          91,
          92,
          93,
          94,
          95,
          96,
          97,
          98,
          99
         ],
         "xaxis": "x3",
         "y": [
          5688.484333110004,
          5883.015082123086,
          5971.592366565623,
          5976.238059793215,
          6019.610754389466,
          6077.738799769957,
          6230.966343785713,
          6383.893079576688,
          6413.9423703764905,
          6451.41937618509,
          6467.39153738237,
          6472.7657260960605,
          6539.530792428448,
          6563.691321588028,
          6616.6543901799005,
          6629.303070322234,
          6634.207220310232,
          6649.012893849859,
          6672.11999843606,
          6689.4199935624965,
          6812.873882498198,
          6828.895907713096,
          6829.732705241186,
          6850.519348499899,
          6886.029841997622,
          6899.703992818401,
          6916.524786082755,
          6934.882882883345,
          7007.422167350278,
          7060.972024404374,
          7067.297150272252,
          7076.295173782458,
          7090.628472427166,
          7142.054267158767,
          7179.262836175755,
          7207.144103207175,
          7235.112282103194,
          7249.529088134745,
          7250.6313491482915,
          7293.8797470674635,
          7334.057977406144,
          7344.418804180424,
          7364.800098559953,
          7370.8889713432645,
          7391.066696426768,
          7407.954739799766,
          7420.3550617744395,
          7455.944472203067,
          7460.793640890987,
          7464.29007356698,
          7478.7773317251895,
          7493.147430703912,
          7505.6891148689765,
          7568.684681352227,
          7718.237595909715,
          7736.245321006072,
          7780.436532381595,
          7853.062529308178,
          7867.533638048147,
          7881.298528445386,
          7888.353047682617,
          7940.839511724206,
          7954.769119226945,
          7985.024489653419,
          8022.134927610345,
          8033.720218291255,
          8035.714235838086,
          8147.909875974781,
          8238.301251162757,
          8245.010946405244,
          8294.519993724283,
          8329.911379167035,
          8401.072659708558,
          8566.537579431371,
          8629.042736847145,
          8660.578239430828,
          8685.982539926961,
          8703.367012062927,
          8856.933012986106,
          8880.973221140772,
          9220.488113610369,
          9286.182691378213,
          9321.382493147188,
          9363.456312581351,
          9398.317376329287,
          9408.671752186767,
          9409.623811436531,
          9569.148262452165,
          9805.00511853804,
          9822.373289233406,
          9842.291736522477,
          9888.633250203166,
          10068.345604584923,
          10096.906045555794,
          10296.052731527623,
          10438.323607693375,
          10892.648064456762,
          11202.95212024156,
          11691.880882765283,
          11915.800598742793
         ],
         "yaxis": "y3"
        },
        {
         "marker": {
          "color": "red",
          "size": 10
         },
         "type": "scatter",
         "x": [
          7
         ],
         "xaxis": "x3",
         "y": [
          6339.381099544567
         ],
         "yaxis": "y3"
        },
        {
         "line": {
          "color": "grey",
          "dash": "dash"
         },
         "mode": "lines",
         "type": "scatter",
         "x": [
          0,
          49
         ],
         "xaxis": "x3",
         "y": [
          7471.533702646085,
          7471.533702646085
         ],
         "yaxis": "y3"
        },
        {
         "line": {
          "color": "grey",
          "dash": "dot"
         },
         "mode": "lines",
         "type": "scatter",
         "x": [
          0,
          25
         ],
         "xaxis": "x3",
         "y": [
          6896.285455113206,
          6896.285455113206
         ],
         "yaxis": "y3"
        },
        {
         "line": {
          "color": "grey",
          "dash": "dot"
         },
         "mode": "lines",
         "type": "scatter",
         "x": [
          0,
          74
         ],
         "xaxis": "x3",
         "y": [
          8636.926612493065,
          8636.926612493065
         ],
         "yaxis": "y3"
        },
        {
         "line": {
          "color": "blue"
         },
         "mode": "lines",
         "type": "scatter",
         "x": [
          0,
          1,
          2,
          3,
          4,
          5,
          6,
          7,
          8,
          9,
          10,
          11,
          12,
          13,
          14,
          15,
          16,
          17,
          18,
          19,
          20,
          21,
          22,
          23,
          24,
          25,
          26,
          27,
          28,
          29,
          30,
          31,
          32,
          33,
          34,
          35,
          36,
          37,
          38,
          39,
          40,
          41,
          42,
          43,
          44,
          45,
          46,
          47,
          48,
          49,
          50,
          51,
          52,
          53,
          54,
          55,
          56,
          57,
          58,
          59,
          60,
          61,
          62,
          63,
          64,
          65,
          66,
          67,
          68,
          69,
          70,
          71,
          72,
          73,
          74,
          75,
          76,
          77,
          78,
          79,
          80,
          81,
          82,
          83,
          84,
          85,
          86,
          87,
          88,
          89,
          90,
          91,
          92,
          93,
          94,
          95,
          96,
          97,
          98,
          99
         ],
         "xaxis": "x4",
         "y": [
          7.70935561962873,
          9.259332422501506,
          9.841236420785242,
          10.995022817767067,
          11.053236424927588,
          11.277294220272383,
          11.583474058035268,
          11.658143300329504,
          11.755342418965803,
          12.357733544293197,
          12.377123219262431,
          12.386480868626004,
          12.491031959773018,
          12.895400197174537,
          13.235986463050127,
          13.26010644142919,
          13.332636242081815,
          13.595173431151494,
          13.629950444058473,
          13.742421549501712,
          13.74344838562547,
          13.81714935133334,
          13.899613102258298,
          14.081855668856214,
          14.103363323287194,
          14.143544894026205,
          14.365965207079096,
          14.46346255516748,
          14.503361600380618,
          14.566956770971773,
          15.153334484873394,
          15.270888424387568,
          15.356882546031784,
          15.393829369836348,
          15.416999596560649,
          15.560733892457899,
          15.569084393911485,
          15.80126407936137,
          16.085989852750394,
          16.101958274327025,
          16.248479794064334,
          16.32113762418551,
          16.42420353452905,
          16.438641912866625,
          16.496303454071278,
          16.511374556314742,
          16.7857908415495,
          16.90532908383163,
          17.025382147752865,
          17.08420093267487,
          17.180498744269272,
          17.244813891809073,
          17.40641337072902,
          17.42515565810214,
          17.433761302339608,
          17.483934368627345,
          17.663400783779004,
          17.726183271785104,
          17.888383562359998,
          18.126595779237505,
          18.597157867140933,
          18.60016193244298,
          18.636359007201705,
          18.77107571116523,
          19.206527425473215,
          19.325025247431387,
          19.37059832469949,
          19.58330497176184,
          19.6515070728059,
          19.6919001978428,
          19.817919870830497,
          20.05482638383026,
          20.202136061153972,
          20.213587392640303,
          20.31405297742041,
          20.36686330006987,
          20.519870529539503,
          20.56732755883218,
          20.669109462203494,
          20.739001316503064,
          20.841670661879654,
          20.930221930512346,
          20.997603521540537,
          21.079365295398222,
          21.260285922723256,
          21.450460911068966,
          21.517512943772285,
          21.532215056653076,
          21.996165207836402,
          22.174625096517357,
          22.842927208868478,
          23.15305418494948,
          23.201937047361664,
          23.209448317143103,
          23.503044619479333,
          23.858687366713696,
          24.198770448124026,
          24.30788622232492,
          25.744072452962538,
          25.75320585728895
         ],
         "yaxis": "y4"
        },
        {
         "marker": {
          "color": "red",
          "size": 10
         },
         "type": "scatter",
         "x": [
          37
         ],
         "xaxis": "x4",
         "y": [
          15.737445414847162
         ],
         "yaxis": "y4"
        },
        {
         "line": {
          "color": "grey",
          "dash": "dash"
         },
         "mode": "lines",
         "type": "scatter",
         "x": [
          0,
          50
         ],
         "xaxis": "x4",
         "y": [
          17.132349838472074,
          17.132349838472074
         ],
         "yaxis": "y4"
        },
        {
         "line": {
          "color": "grey",
          "dash": "dot"
         },
         "mode": "lines",
         "type": "scatter",
         "x": [
          0,
          25
         ],
         "xaxis": "x4",
         "y": [
          14.133499501341452,
          14.133499501341452
         ],
         "yaxis": "y4"
        },
        {
         "line": {
          "color": "grey",
          "dash": "dot"
         },
         "mode": "lines",
         "type": "scatter",
         "x": [
          0,
          74
         ],
         "xaxis": "x4",
         "y": [
          20.327255558082776,
          20.327255558082776
         ],
         "yaxis": "y4"
        }
       ],
       "layout": {
        "annotations": [
         {
          "font": {
           "color": "gray",
           "size": 14
          },
          "showarrow": false,
          "text": "Q2",
          "x": 25,
          "xref": "x",
          "y": 705011.2589847804,
          "yref": "y",
          "yshift": 14
         },
         {
          "font": {
           "color": "gray",
           "size": 14
          },
          "showarrow": false,
          "text": "Q1",
          "x": 12.5,
          "xref": "x",
          "y": 695199.0154387227,
          "yref": "y",
          "yshift": 14
         },
         {
          "font": {
           "color": "gray",
           "size": 14
          },
          "showarrow": false,
          "text": "Q3",
          "x": 37,
          "xref": "x",
          "y": 717181.0769364606,
          "yref": "y",
          "yshift": 14
         },
         {
          "font": {
           "color": "gray",
           "size": 14
          },
          "showarrow": false,
          "text": "Q2",
          "x": 24.5,
          "xref": "x2",
          "y": 41545.461633960615,
          "yref": "y2",
          "yshift": 14
         },
         {
          "font": {
           "color": "gray",
           "size": 14
          },
          "showarrow": false,
          "text": "Q1",
          "x": 12.5,
          "xref": "x2",
          "y": 34961.46630917952,
          "yref": "y2",
          "yshift": 14
         },
         {
          "font": {
           "color": "gray",
           "size": 14
          },
          "showarrow": false,
          "text": "Q3",
          "x": 37,
          "xref": "x2",
          "y": 49816.160017254384,
          "yref": "y2",
          "yshift": 14
         },
         {
          "font": {
           "color": "gray",
           "size": 14
          },
          "showarrow": false,
          "text": "Q2",
          "x": 24.5,
          "xref": "x3",
          "y": 7471.533702646085,
          "yref": "y3",
          "yshift": 14
         },
         {
          "font": {
           "color": "gray",
           "size": 14
          },
          "showarrow": false,
          "text": "Q1",
          "x": 12.5,
          "xref": "x3",
          "y": 6896.285455113206,
          "yref": "y3",
          "yshift": 14
         },
         {
          "font": {
           "color": "gray",
           "size": 14
          },
          "showarrow": false,
          "text": "Q3",
          "x": 37,
          "xref": "x3",
          "y": 8636.926612493065,
          "yref": "y3",
          "yshift": 14
         },
         {
          "font": {
           "color": "gray",
           "size": 14
          },
          "showarrow": false,
          "text": "Q2",
          "x": 25,
          "xref": "x4",
          "y": 17.132349838472074,
          "yref": "y4",
          "yshift": 14
         },
         {
          "font": {
           "color": "gray",
           "size": 14
          },
          "showarrow": false,
          "text": "Q1",
          "x": 12.5,
          "xref": "x4",
          "y": 14.133499501341452,
          "yref": "y4",
          "yshift": 14
         },
         {
          "font": {
           "color": "gray",
           "size": 14
          },
          "showarrow": false,
          "text": "Q3",
          "x": 37,
          "xref": "x4",
          "y": 20.327255558082776,
          "yref": "y4",
          "yshift": 14
         }
        ],
        "autosize": false,
        "font": {
         "size": 28
        },
        "height": 600,
        "hovermode": "closest",
        "margin": {
         "b": 20,
         "l": 20,
         "r": 20,
         "t": 20
        },
        "showlegend": false,
        "template": {
         "data": {
          "bar": [
           {
            "error_x": {
             "color": "rgb(36,36,36)"
            },
            "error_y": {
             "color": "rgb(36,36,36)"
            },
            "marker": {
             "line": {
              "color": "white",
              "width": 0.5
             },
             "pattern": {
              "fillmode": "overlay",
              "size": 10,
              "solidity": 0.2
             }
            },
            "type": "bar"
           }
          ],
          "barpolar": [
           {
            "marker": {
             "line": {
              "color": "white",
              "width": 0.5
             },
             "pattern": {
              "fillmode": "overlay",
              "size": 10,
              "solidity": 0.2
             }
            },
            "type": "barpolar"
           }
          ],
          "carpet": [
           {
            "aaxis": {
             "endlinecolor": "rgb(36,36,36)",
             "gridcolor": "white",
             "linecolor": "white",
             "minorgridcolor": "white",
             "startlinecolor": "rgb(36,36,36)"
            },
            "baxis": {
             "endlinecolor": "rgb(36,36,36)",
             "gridcolor": "white",
             "linecolor": "white",
             "minorgridcolor": "white",
             "startlinecolor": "rgb(36,36,36)"
            },
            "type": "carpet"
           }
          ],
          "choropleth": [
           {
            "colorbar": {
             "outlinewidth": 1,
             "tickcolor": "rgb(36,36,36)",
             "ticks": "outside"
            },
            "type": "choropleth"
           }
          ],
          "contour": [
           {
            "colorbar": {
             "outlinewidth": 1,
             "tickcolor": "rgb(36,36,36)",
             "ticks": "outside"
            },
            "colorscale": [
             [
              0,
              "#440154"
             ],
             [
              0.1111111111111111,
              "#482878"
             ],
             [
              0.2222222222222222,
              "#3e4989"
             ],
             [
              0.3333333333333333,
              "#31688e"
             ],
             [
              0.4444444444444444,
              "#26828e"
             ],
             [
              0.5555555555555556,
              "#1f9e89"
             ],
             [
              0.6666666666666666,
              "#35b779"
             ],
             [
              0.7777777777777778,
              "#6ece58"
             ],
             [
              0.8888888888888888,
              "#b5de2b"
             ],
             [
              1,
              "#fde725"
             ]
            ],
            "type": "contour"
           }
          ],
          "contourcarpet": [
           {
            "colorbar": {
             "outlinewidth": 1,
             "tickcolor": "rgb(36,36,36)",
             "ticks": "outside"
            },
            "type": "contourcarpet"
           }
          ],
          "heatmap": [
           {
            "colorbar": {
             "outlinewidth": 1,
             "tickcolor": "rgb(36,36,36)",
             "ticks": "outside"
            },
            "colorscale": [
             [
              0,
              "#440154"
             ],
             [
              0.1111111111111111,
              "#482878"
             ],
             [
              0.2222222222222222,
              "#3e4989"
             ],
             [
              0.3333333333333333,
              "#31688e"
             ],
             [
              0.4444444444444444,
              "#26828e"
             ],
             [
              0.5555555555555556,
              "#1f9e89"
             ],
             [
              0.6666666666666666,
              "#35b779"
             ],
             [
              0.7777777777777778,
              "#6ece58"
             ],
             [
              0.8888888888888888,
              "#b5de2b"
             ],
             [
              1,
              "#fde725"
             ]
            ],
            "type": "heatmap"
           }
          ],
          "heatmapgl": [
           {
            "colorbar": {
             "outlinewidth": 1,
             "tickcolor": "rgb(36,36,36)",
             "ticks": "outside"
            },
            "colorscale": [
             [
              0,
              "#440154"
             ],
             [
              0.1111111111111111,
              "#482878"
             ],
             [
              0.2222222222222222,
              "#3e4989"
             ],
             [
              0.3333333333333333,
              "#31688e"
             ],
             [
              0.4444444444444444,
              "#26828e"
             ],
             [
              0.5555555555555556,
              "#1f9e89"
             ],
             [
              0.6666666666666666,
              "#35b779"
             ],
             [
              0.7777777777777778,
              "#6ece58"
             ],
             [
              0.8888888888888888,
              "#b5de2b"
             ],
             [
              1,
              "#fde725"
             ]
            ],
            "type": "heatmapgl"
           }
          ],
          "histogram": [
           {
            "marker": {
             "line": {
              "color": "white",
              "width": 0.6
             },
             "pattern": {
              "fillmode": "overlay",
              "size": 10,
              "solidity": 0.2
             }
            },
            "type": "histogram"
           }
          ],
          "histogram2d": [
           {
            "colorbar": {
             "outlinewidth": 1,
             "tickcolor": "rgb(36,36,36)",
             "ticks": "outside"
            },
            "colorscale": [
             [
              0,
              "#440154"
             ],
             [
              0.1111111111111111,
              "#482878"
             ],
             [
              0.2222222222222222,
              "#3e4989"
             ],
             [
              0.3333333333333333,
              "#31688e"
             ],
             [
              0.4444444444444444,
              "#26828e"
             ],
             [
              0.5555555555555556,
              "#1f9e89"
             ],
             [
              0.6666666666666666,
              "#35b779"
             ],
             [
              0.7777777777777778,
              "#6ece58"
             ],
             [
              0.8888888888888888,
              "#b5de2b"
             ],
             [
              1,
              "#fde725"
             ]
            ],
            "type": "histogram2d"
           }
          ],
          "histogram2dcontour": [
           {
            "colorbar": {
             "outlinewidth": 1,
             "tickcolor": "rgb(36,36,36)",
             "ticks": "outside"
            },
            "colorscale": [
             [
              0,
              "#440154"
             ],
             [
              0.1111111111111111,
              "#482878"
             ],
             [
              0.2222222222222222,
              "#3e4989"
             ],
             [
              0.3333333333333333,
              "#31688e"
             ],
             [
              0.4444444444444444,
              "#26828e"
             ],
             [
              0.5555555555555556,
              "#1f9e89"
             ],
             [
              0.6666666666666666,
              "#35b779"
             ],
             [
              0.7777777777777778,
              "#6ece58"
             ],
             [
              0.8888888888888888,
              "#b5de2b"
             ],
             [
              1,
              "#fde725"
             ]
            ],
            "type": "histogram2dcontour"
           }
          ],
          "mesh3d": [
           {
            "colorbar": {
             "outlinewidth": 1,
             "tickcolor": "rgb(36,36,36)",
             "ticks": "outside"
            },
            "type": "mesh3d"
           }
          ],
          "parcoords": [
           {
            "line": {
             "colorbar": {
              "outlinewidth": 1,
              "tickcolor": "rgb(36,36,36)",
              "ticks": "outside"
             }
            },
            "type": "parcoords"
           }
          ],
          "pie": [
           {
            "automargin": true,
            "type": "pie"
           }
          ],
          "scatter": [
           {
            "fillpattern": {
             "fillmode": "overlay",
             "size": 10,
             "solidity": 0.2
            },
            "type": "scatter"
           }
          ],
          "scatter3d": [
           {
            "line": {
             "colorbar": {
              "outlinewidth": 1,
              "tickcolor": "rgb(36,36,36)",
              "ticks": "outside"
             }
            },
            "marker": {
             "colorbar": {
              "outlinewidth": 1,
              "tickcolor": "rgb(36,36,36)",
              "ticks": "outside"
             }
            },
            "type": "scatter3d"
           }
          ],
          "scattercarpet": [
           {
            "marker": {
             "colorbar": {
              "outlinewidth": 1,
              "tickcolor": "rgb(36,36,36)",
              "ticks": "outside"
             }
            },
            "type": "scattercarpet"
           }
          ],
          "scattergeo": [
           {
            "marker": {
             "colorbar": {
              "outlinewidth": 1,
              "tickcolor": "rgb(36,36,36)",
              "ticks": "outside"
             }
            },
            "type": "scattergeo"
           }
          ],
          "scattergl": [
           {
            "marker": {
             "colorbar": {
              "outlinewidth": 1,
              "tickcolor": "rgb(36,36,36)",
              "ticks": "outside"
             }
            },
            "type": "scattergl"
           }
          ],
          "scattermapbox": [
           {
            "marker": {
             "colorbar": {
              "outlinewidth": 1,
              "tickcolor": "rgb(36,36,36)",
              "ticks": "outside"
             }
            },
            "type": "scattermapbox"
           }
          ],
          "scatterpolar": [
           {
            "marker": {
             "colorbar": {
              "outlinewidth": 1,
              "tickcolor": "rgb(36,36,36)",
              "ticks": "outside"
             }
            },
            "type": "scatterpolar"
           }
          ],
          "scatterpolargl": [
           {
            "marker": {
             "colorbar": {
              "outlinewidth": 1,
              "tickcolor": "rgb(36,36,36)",
              "ticks": "outside"
             }
            },
            "type": "scatterpolargl"
           }
          ],
          "scatterternary": [
           {
            "marker": {
             "colorbar": {
              "outlinewidth": 1,
              "tickcolor": "rgb(36,36,36)",
              "ticks": "outside"
             }
            },
            "type": "scatterternary"
           }
          ],
          "surface": [
           {
            "colorbar": {
             "outlinewidth": 1,
             "tickcolor": "rgb(36,36,36)",
             "ticks": "outside"
            },
            "colorscale": [
             [
              0,
              "#440154"
             ],
             [
              0.1111111111111111,
              "#482878"
             ],
             [
              0.2222222222222222,
              "#3e4989"
             ],
             [
              0.3333333333333333,
              "#31688e"
             ],
             [
              0.4444444444444444,
              "#26828e"
             ],
             [
              0.5555555555555556,
              "#1f9e89"
             ],
             [
              0.6666666666666666,
              "#35b779"
             ],
             [
              0.7777777777777778,
              "#6ece58"
             ],
             [
              0.8888888888888888,
              "#b5de2b"
             ],
             [
              1,
              "#fde725"
             ]
            ],
            "type": "surface"
           }
          ],
          "table": [
           {
            "cells": {
             "fill": {
              "color": "rgb(237,237,237)"
             },
             "line": {
              "color": "white"
             }
            },
            "header": {
             "fill": {
              "color": "rgb(217,217,217)"
             },
             "line": {
              "color": "white"
             }
            },
            "type": "table"
           }
          ]
         },
         "layout": {
          "annotationdefaults": {
           "arrowcolor": "#2a3f5f",
           "arrowhead": 0,
           "arrowwidth": 1
          },
          "autotypenumbers": "strict",
          "coloraxis": {
           "colorbar": {
            "outlinewidth": 1,
            "tickcolor": "rgb(36,36,36)",
            "ticks": "outside"
           }
          },
          "colorscale": {
           "diverging": [
            [
             0,
             "rgb(103,0,31)"
            ],
            [
             0.1,
             "rgb(178,24,43)"
            ],
            [
             0.2,
             "rgb(214,96,77)"
            ],
            [
             0.3,
             "rgb(244,165,130)"
            ],
            [
             0.4,
             "rgb(253,219,199)"
            ],
            [
             0.5,
             "rgb(247,247,247)"
            ],
            [
             0.6,
             "rgb(209,229,240)"
            ],
            [
             0.7,
             "rgb(146,197,222)"
            ],
            [
             0.8,
             "rgb(67,147,195)"
            ],
            [
             0.9,
             "rgb(33,102,172)"
            ],
            [
             1,
             "rgb(5,48,97)"
            ]
           ],
           "sequential": [
            [
             0,
             "#440154"
            ],
            [
             0.1111111111111111,
             "#482878"
            ],
            [
             0.2222222222222222,
             "#3e4989"
            ],
            [
             0.3333333333333333,
             "#31688e"
            ],
            [
             0.4444444444444444,
             "#26828e"
            ],
            [
             0.5555555555555556,
             "#1f9e89"
            ],
            [
             0.6666666666666666,
             "#35b779"
            ],
            [
             0.7777777777777778,
             "#6ece58"
            ],
            [
             0.8888888888888888,
             "#b5de2b"
            ],
            [
             1,
             "#fde725"
            ]
           ],
           "sequentialminus": [
            [
             0,
             "#440154"
            ],
            [
             0.1111111111111111,
             "#482878"
            ],
            [
             0.2222222222222222,
             "#3e4989"
            ],
            [
             0.3333333333333333,
             "#31688e"
            ],
            [
             0.4444444444444444,
             "#26828e"
            ],
            [
             0.5555555555555556,
             "#1f9e89"
            ],
            [
             0.6666666666666666,
             "#35b779"
            ],
            [
             0.7777777777777778,
             "#6ece58"
            ],
            [
             0.8888888888888888,
             "#b5de2b"
            ],
            [
             1,
             "#fde725"
            ]
           ]
          },
          "colorway": [
           "#1F77B4",
           "#FF7F0E",
           "#2CA02C",
           "#D62728",
           "#9467BD",
           "#8C564B",
           "#E377C2",
           "#7F7F7F",
           "#BCBD22",
           "#17BECF"
          ],
          "font": {
           "color": "rgb(36,36,36)"
          },
          "geo": {
           "bgcolor": "white",
           "lakecolor": "white",
           "landcolor": "white",
           "showlakes": true,
           "showland": true,
           "subunitcolor": "white"
          },
          "hoverlabel": {
           "align": "left"
          },
          "hovermode": "closest",
          "mapbox": {
           "style": "light"
          },
          "paper_bgcolor": "white",
          "plot_bgcolor": "white",
          "polar": {
           "angularaxis": {
            "gridcolor": "rgb(232,232,232)",
            "linecolor": "rgb(36,36,36)",
            "showgrid": false,
            "showline": true,
            "ticks": "outside"
           },
           "bgcolor": "white",
           "radialaxis": {
            "gridcolor": "rgb(232,232,232)",
            "linecolor": "rgb(36,36,36)",
            "showgrid": false,
            "showline": true,
            "ticks": "outside"
           }
          },
          "scene": {
           "xaxis": {
            "backgroundcolor": "white",
            "gridcolor": "rgb(232,232,232)",
            "gridwidth": 2,
            "linecolor": "rgb(36,36,36)",
            "showbackground": true,
            "showgrid": false,
            "showline": true,
            "ticks": "outside",
            "zeroline": false,
            "zerolinecolor": "rgb(36,36,36)"
           },
           "yaxis": {
            "backgroundcolor": "white",
            "gridcolor": "rgb(232,232,232)",
            "gridwidth": 2,
            "linecolor": "rgb(36,36,36)",
            "showbackground": true,
            "showgrid": false,
            "showline": true,
            "ticks": "outside",
            "zeroline": false,
            "zerolinecolor": "rgb(36,36,36)"
           },
           "zaxis": {
            "backgroundcolor": "white",
            "gridcolor": "rgb(232,232,232)",
            "gridwidth": 2,
            "linecolor": "rgb(36,36,36)",
            "showbackground": true,
            "showgrid": false,
            "showline": true,
            "ticks": "outside",
            "zeroline": false,
            "zerolinecolor": "rgb(36,36,36)"
           }
          },
          "shapedefaults": {
           "fillcolor": "black",
           "line": {
            "color": "#2a3f5f",
            "width": 0
           },
           "opacity": 0.3
          },
          "ternary": {
           "aaxis": {
            "gridcolor": "rgb(232,232,232)",
            "linecolor": "rgb(36,36,36)",
            "showgrid": false,
            "showline": true,
            "ticks": "outside"
           },
           "baxis": {
            "gridcolor": "rgb(232,232,232)",
            "linecolor": "rgb(36,36,36)",
            "showgrid": false,
            "showline": true,
            "ticks": "outside"
           },
           "bgcolor": "white",
           "caxis": {
            "gridcolor": "rgb(232,232,232)",
            "linecolor": "rgb(36,36,36)",
            "showgrid": false,
            "showline": true,
            "ticks": "outside"
           }
          },
          "title": {
           "x": 0.05
          },
          "xaxis": {
           "automargin": true,
           "gridcolor": "rgb(232,232,232)",
           "linecolor": "rgb(36,36,36)",
           "showgrid": false,
           "showline": true,
           "ticks": "outside",
           "title": {
            "standoff": 15
           },
           "zeroline": false,
           "zerolinecolor": "rgb(36,36,36)",
           "zerolinewidth": 2
          },
          "yaxis": {
           "automargin": true,
           "gridcolor": "rgb(232,232,232)",
           "linecolor": "rgb(36,36,36)",
           "showgrid": false,
           "showline": true,
           "ticks": "outside",
           "title": {
            "standoff": 15
           },
           "zeroline": false,
           "zerolinecolor": "rgb(36,36,36)",
           "zerolinewidth": 2
          }
         }
        },
        "width": 1200,
        "xaxis": {
         "anchor": "y",
         "autorange": true,
         "domain": [
          0,
          0.41000000000000003
         ],
         "mirror": true,
         "range": [
          0,
          99
         ],
         "showgrid": true,
         "showline": true,
         "tickfont": {
          "size": 16
         },
         "title": {
          "font": {
           "size": 20
          },
          "text": "Iteration number"
         },
         "type": "linear"
        },
        "xaxis2": {
         "anchor": "y2",
         "autorange": true,
         "domain": [
          0.5900000000000001,
          1
         ],
         "mirror": true,
         "range": [
          0,
          99
         ],
         "showgrid": true,
         "showline": true,
         "tickfont": {
          "size": 16
         },
         "title": {
          "font": {
           "size": 20
          },
          "text": "Iteration number"
         },
         "type": "linear"
        },
        "xaxis3": {
         "anchor": "y3",
         "autorange": true,
         "domain": [
          0,
          0.41000000000000003
         ],
         "mirror": true,
         "range": [
          0,
          99
         ],
         "showgrid": true,
         "showline": true,
         "tickfont": {
          "size": 16
         },
         "title": {
          "font": {
           "size": 20
          },
          "text": "Iteration number"
         },
         "type": "linear"
        },
        "xaxis4": {
         "anchor": "y4",
         "autorange": true,
         "domain": [
          0.5900000000000001,
          1
         ],
         "mirror": true,
         "range": [
          0,
          99
         ],
         "showgrid": true,
         "showline": true,
         "tickfont": {
          "size": 16
         },
         "title": {
          "font": {
           "size": 20
          },
          "text": "Iteration number"
         },
         "type": "linear"
        },
        "yaxis": {
         "anchor": "x",
         "autorange": true,
         "domain": [
          0.625,
          1
         ],
         "mirror": true,
         "range": [
          666320.9845400343,
          742901.8302381247
         ],
         "showgrid": true,
         "showline": true,
         "tickfont": {
          "size": 16
         },
         "tickformat": ".2f",
         "title": {
          "font": {
           "size": 20
          },
          "text": "NP [$]"
         },
         "type": "linear"
        },
        "yaxis2": {
         "anchor": "x2",
         "autorange": true,
         "domain": [
          0.625,
          1
         ],
         "mirror": true,
         "range": [
          24163.18111374436,
          90848.6808279423
         ],
         "showgrid": true,
         "showline": true,
         "tickfont": {
          "size": 16
         },
         "tickformat": ".2f",
         "title": {
          "font": {
           "size": 20
          },
          "text": "Max DD [$]"
         },
         "type": "linear"
        },
        "yaxis3": {
         "anchor": "x3",
         "autorange": true,
         "domain": [
          0,
          0.375
         ],
         "mirror": true,
         "range": [
          5342.522318352627,
          12261.76261350017
         ],
         "showgrid": true,
         "showline": true,
         "tickfont": {
          "size": 16
         },
         "tickformat": ".2f",
         "title": {
          "font": {
           "size": 20
          },
          "text": "Avg. DD [$]"
         },
         "type": "linear"
        },
        "yaxis4": {
         "anchor": "x4",
         "autorange": true,
         "domain": [
          0,
          0.375
         ],
         "mirror": true,
         "range": [
          6.706919495314273,
          26.755641981603407
         ],
         "showgrid": true,
         "showline": true,
         "tickfont": {
          "size": 16
         },
         "tickformat": ".1f",
         "title": {
          "font": {
           "size": 20
          },
          "text": "NP/DD"
         },
         "type": "linear"
        }
       }
      },
      "image/png": "[encoded data removed]",
      "text/html": [
       "<div>                            <div id=\"e17efa1a-d1d5-4e5d-8ad6-3aece5f56b95\" class=\"plotly-graph-div\" style=\"height:600px; width:1200px;\"></div>            <script type=\"text/javascript\">                require([\"plotly\"], function(Plotly) {                    window.PLOTLYENV=window.PLOTLYENV || {};                                    if (document.getElementById(\"e17efa1a-d1d5-4e5d-8ad6-3aece5f56b95\")) {                    Plotly.newPlot(                        \"e17efa1a-d1d5-4e5d-8ad6-3aece5f56b95\",                        [{\"line\":{\"color\":\"blue\"},\"mode\":\"lines\",\"x\":[0,1,2,3,4,5,6,7,8,9,10,11,12,13,14,15,16,17,18,19,20,21,22,23,24,25,26,27,28,29,30,31,32,33,34,35,36,37,38,39,40,41,42,43,44,45,46,47,48,49,50,51,52,53,54,55,56,57,58,59,60,61,62,63,64,65,66,67,68,69,70,71,72,73,74,75,76,77,78,79,80,81,82,83,84,85,86,87,88,89,90,91,92,93,94,95,96,97,98,99],\"y\":[670150.0268249388,674679.6764782837,680580.803735823,681703.2597006302,682501.0037799058,683569.134540277,684244.2463343465,684710.86659685,685303.0759648744,686527.5698006318,688145.4660260279,689818.7052425072,690833.8031510257,691131.0843721583,691825.4425401546,691849.6642922921,691990.4464456114,692270.4558573883,692475.5968335825,692591.5229189331,692905.6880148893,693052.1900851071,694100.9380011236,694260.0602281826,694964.3264309132,695277.2451079926,696104.0539996289,696141.2525909955,696305.6263745389,696390.2326445224,697072.5799269615,697987.2005201092,698467.4343352956,698647.2347071349,698991.138719358,699040.5744702229,699313.9198788174,699429.8290218215,699615.3303063167,699821.0674693258,700020.3083728853,700154.5434478392,700438.6490853835,702785.2741711594,702803.8222168557,703129.5533733977,703246.2613514846,704206.7512613089,704251.325087799,704690.6662150256,705331.8517545351,705679.1534097275,705904.7048502297,706018.6821233475,706149.892953852,706606.1423301894,707061.7062049505,707456.6273661602,707896.502096507,708986.7754246463,709884.5725038307,710367.281394765,710418.4111072475,710634.4549298261,710930.0577400556,712360.9059878462,713385.9066105875,713514.6754619488,713722.483944942,714016.9829192954,715680.02704997,715750.0286880545,716846.193002738,716998.3982675374,717020.6644871415,717662.3142844174,718360.3626838926,718467.7090629468,718655.0291867498,719013.773213458,719800.2014780903,719870.3644266457,720605.3953384692,722143.5672701347,722442.3135968038,722566.456248661,725298.8688487398,725654.8929006193,726703.8083704332,726886.164674019,728557.2309185594,728875.3376485062,729155.9124885305,729607.6723873683,730638.667589797,730843.5342495955,732876.6471910937,734337.8534303249,736520.9923683736,739072.7879532202],\"type\":\"scatter\",\"xaxis\":\"x\",\"yaxis\":\"y\"},{\"marker\":{\"color\":\"red\",\"size\":10},\"x\":[82],\"y\":[720775.0],\"type\":\"scatter\",\"xaxis\":\"x\",\"yaxis\":\"y\"},{\"line\":{\"color\":\"grey\",\"dash\":\"dash\"},\"mode\":\"lines\",\"x\":[0,50],\"y\":[705011.2589847804,705011.2589847804],\"type\":\"scatter\",\"xaxis\":\"x\",\"yaxis\":\"y\"},{\"line\":{\"color\":\"grey\",\"dash\":\"dot\"},\"mode\":\"lines\",\"x\":[0,25],\"y\":[695199.0154387227,695199.0154387227],\"type\":\"scatter\",\"xaxis\":\"x\",\"yaxis\":\"y\"},{\"line\":{\"color\":\"grey\",\"dash\":\"dot\"},\"mode\":\"lines\",\"x\":[0,74],\"y\":[717181.0769364606,717181.0769364606],\"type\":\"scatter\",\"xaxis\":\"x\",\"yaxis\":\"y\"},{\"line\":{\"color\":\"blue\"},\"mode\":\"lines\",\"x\":[0,1,2,3,4,5,6,7,8,9,10,11,12,13,14,15,16,17,18,19,20,21,22,23,24,25,26,27,28,29,30,31,32,33,34,35,36,37,38,39,40,41,42,43,44,45,46,47,48,49,50,51,52,53,54,55,56,57,58,59,60,61,62,63,64,65,66,67,68,69,70,71,72,73,74,75,76,77,78,79,80,81,82,83,84,85,86,87,88,89,90,91,92,93,94,95,96,97,98,99],\"y\":[27497.456099454255,27792.65745221678,29181.23028059036,29345.895383358584,29353.217673309686,29964.25937532005,30107.154518736876,31124.279227033374,31265.495111515927,32083.307033722172,32708.50648846604,32772.57165657448,32990.90592982323,33144.960508390795,33162.31606948946,33321.62040014271,33484.06349057512,33566.76833021082,33638.47128389393,33979.47208082548,34257.6713647675,34318.28433067177,34366.36131073296,34550.57025941461,34621.57798089145,35074.76241860888,35135.15196917381,35234.11656117672,35271.03570638824,35569.34010860848,36043.499198050995,36175.3258360452,36304.82907979016,36382.34028308967,36687.76593628817,36693.282900374455,36772.369307762885,37292.49826404493,37531.92856169562,37545.98006291789,37613.72393397696,39285.96596160505,40219.79797682294,40259.06365727389,40283.427109352546,40305.03954987967,40497.20940188621,40923.51229067886,41352.58574799338,41362.853634669096,41728.06963325214,41845.01572297269,41891.33749189146,42231.8727987177,42603.71568537096,42717.93661689919,42752.02768551611,43066.736534178024,43084.21156728559,43430.36467768048,43720.16059483177,44303.8594102581,44422.712544537964,44449.25495114934,44525.3158881257,44637.45643916536,44923.8853890508,45697.902169640394,45827.13513587811,47590.61821687536,47996.048997451784,48371.220075261954,48443.82835102291,49215.27738387324,49784.871086316954,49910.02681006669,50238.87788672547,50344.0868700013,50714.11634489754,51355.999981136236,51377.06443299953,51907.34425551677,52159.40150757937,52788.02200786874,53238.17479903062,53419.64561378176,54196.776802742796,55225.11730528326,55797.2108222231,56897.937704612756,58379.19227661367,59927.83041939349,60714.733651096234,61843.34689509323,61885.25043619996,61935.72861473373,65706.30416786362,72553.58497548658,76312.86037566111,87514.4058422324],\"type\":\"scatter\",\"xaxis\":\"x2\",\"yaxis\":\"y2\"},{\"marker\":{\"color\":\"red\",\"size\":10},\"x\":[68],\"y\":[45800.0],\"type\":\"scatter\",\"xaxis\":\"x2\",\"yaxis\":\"y2\"},{\"line\":{\"color\":\"grey\",\"dash\":\"dash\"},\"mode\":\"lines\",\"x\":[0,49],\"y\":[41545.461633960615,41545.461633960615],\"type\":\"scatter\",\"xaxis\":\"x2\",\"yaxis\":\"y2\"},{\"line\":{\"color\":\"grey\",\"dash\":\"dot\"},\"mode\":\"lines\",\"x\":[0,25],\"y\":[34961.46630917952,34961.46630917952],\"type\":\"scatter\",\"xaxis\":\"x2\",\"yaxis\":\"y2\"},{\"line\":{\"color\":\"grey\",\"dash\":\"dot\"},\"mode\":\"lines\",\"x\":[0,74],\"y\":[49816.160017254384,49816.160017254384],\"type\":\"scatter\",\"xaxis\":\"x2\",\"yaxis\":\"y2\"},{\"line\":{\"color\":\"blue\"},\"mode\":\"lines\",\"x\":[0,1,2,3,4,5,6,7,8,9,10,11,12,13,14,15,16,17,18,19,20,21,22,23,24,25,26,27,28,29,30,31,32,33,34,35,36,37,38,39,40,41,42,43,44,45,46,47,48,49,50,51,52,53,54,55,56,57,58,59,60,61,62,63,64,65,66,67,68,69,70,71,72,73,74,75,76,77,78,79,80,81,82,83,84,85,86,87,88,89,90,91,92,93,94,95,96,97,98,99],\"y\":[5688.484333110004,5883.015082123086,5971.592366565623,5976.238059793215,6019.610754389466,6077.738799769957,6230.966343785713,6383.893079576688,6413.9423703764905,6451.41937618509,6467.39153738237,6472.7657260960605,6539.530792428448,6563.691321588028,6616.6543901799005,6629.303070322234,6634.207220310232,6649.012893849859,6672.11999843606,6689.4199935624965,6812.873882498198,6828.895907713096,6829.732705241186,6850.519348499899,6886.029841997622,6899.703992818401,6916.524786082755,6934.882882883345,7007.422167350278,7060.972024404374,7067.297150272252,7076.295173782458,7090.628472427166,7142.054267158767,7179.262836175755,7207.144103207175,7235.112282103194,7249.529088134745,7250.6313491482915,7293.8797470674635,7334.057977406144,7344.418804180424,7364.800098559953,7370.8889713432645,7391.066696426768,7407.954739799766,7420.3550617744395,7455.944472203067,7460.793640890987,7464.29007356698,7478.7773317251895,7493.147430703912,7505.6891148689765,7568.684681352227,7718.237595909715,7736.245321006072,7780.436532381595,7853.062529308178,7867.533638048147,7881.298528445386,7888.353047682617,7940.839511724206,7954.769119226945,7985.024489653419,8022.134927610345,8033.720218291255,8035.714235838086,8147.909875974781,8238.301251162757,8245.010946405244,8294.519993724283,8329.911379167035,8401.072659708558,8566.537579431371,8629.042736847145,8660.578239430828,8685.982539926961,8703.367012062927,8856.933012986106,8880.973221140772,9220.488113610369,9286.182691378213,9321.382493147188,9363.456312581351,9398.317376329287,9408.671752186767,9409.623811436531,9569.148262452165,9805.00511853804,9822.373289233406,9842.291736522477,9888.633250203166,10068.345604584923,10096.906045555794,10296.052731527623,10438.323607693375,10892.648064456762,11202.95212024156,11691.880882765283,11915.800598742793],\"type\":\"scatter\",\"xaxis\":\"x3\",\"yaxis\":\"y3\"},{\"marker\":{\"color\":\"red\",\"size\":10},\"x\":[7],\"y\":[6339.381099544567],\"type\":\"scatter\",\"xaxis\":\"x3\",\"yaxis\":\"y3\"},{\"line\":{\"color\":\"grey\",\"dash\":\"dash\"},\"mode\":\"lines\",\"x\":[0,49],\"y\":[7471.533702646085,7471.533702646085],\"type\":\"scatter\",\"xaxis\":\"x3\",\"yaxis\":\"y3\"},{\"line\":{\"color\":\"grey\",\"dash\":\"dot\"},\"mode\":\"lines\",\"x\":[0,25],\"y\":[6896.285455113206,6896.285455113206],\"type\":\"scatter\",\"xaxis\":\"x3\",\"yaxis\":\"y3\"},{\"line\":{\"color\":\"grey\",\"dash\":\"dot\"},\"mode\":\"lines\",\"x\":[0,74],\"y\":[8636.926612493065,8636.926612493065],\"type\":\"scatter\",\"xaxis\":\"x3\",\"yaxis\":\"y3\"},{\"line\":{\"color\":\"blue\"},\"mode\":\"lines\",\"x\":[0,1,2,3,4,5,6,7,8,9,10,11,12,13,14,15,16,17,18,19,20,21,22,23,24,25,26,27,28,29,30,31,32,33,34,35,36,37,38,39,40,41,42,43,44,45,46,47,48,49,50,51,52,53,54,55,56,57,58,59,60,61,62,63,64,65,66,67,68,69,70,71,72,73,74,75,76,77,78,79,80,81,82,83,84,85,86,87,88,89,90,91,92,93,94,95,96,97,98,99],\"y\":[7.70935561962873,9.259332422501506,9.841236420785242,10.995022817767067,11.053236424927588,11.277294220272383,11.583474058035268,11.658143300329504,11.755342418965803,12.357733544293197,12.377123219262431,12.386480868626004,12.491031959773018,12.895400197174537,13.235986463050127,13.26010644142919,13.332636242081815,13.595173431151494,13.629950444058473,13.742421549501712,13.74344838562547,13.81714935133334,13.899613102258298,14.081855668856214,14.103363323287194,14.143544894026205,14.365965207079096,14.46346255516748,14.503361600380618,14.566956770971773,15.153334484873394,15.270888424387568,15.356882546031784,15.393829369836348,15.416999596560649,15.560733892457899,15.569084393911485,15.80126407936137,16.085989852750394,16.101958274327025,16.248479794064334,16.32113762418551,16.42420353452905,16.438641912866625,16.496303454071278,16.511374556314742,16.7857908415495,16.90532908383163,17.025382147752865,17.08420093267487,17.180498744269272,17.244813891809073,17.40641337072902,17.42515565810214,17.433761302339608,17.483934368627345,17.663400783779004,17.726183271785104,17.888383562359998,18.126595779237505,18.597157867140933,18.60016193244298,18.636359007201705,18.77107571116523,19.206527425473215,19.325025247431387,19.37059832469949,19.58330497176184,19.6515070728059,19.6919001978428,19.817919870830497,20.05482638383026,20.202136061153972,20.213587392640303,20.31405297742041,20.36686330006987,20.519870529539503,20.56732755883218,20.669109462203494,20.739001316503064,20.841670661879654,20.930221930512346,20.997603521540537,21.079365295398222,21.260285922723256,21.450460911068966,21.517512943772285,21.532215056653076,21.996165207836402,22.174625096517357,22.842927208868478,23.15305418494948,23.201937047361664,23.209448317143103,23.503044619479333,23.858687366713696,24.198770448124026,24.30788622232492,25.744072452962538,25.75320585728895],\"type\":\"scatter\",\"xaxis\":\"x4\",\"yaxis\":\"y4\"},{\"marker\":{\"color\":\"red\",\"size\":10},\"x\":[37],\"y\":[15.737445414847162],\"type\":\"scatter\",\"xaxis\":\"x4\",\"yaxis\":\"y4\"},{\"line\":{\"color\":\"grey\",\"dash\":\"dash\"},\"mode\":\"lines\",\"x\":[0,50],\"y\":[17.132349838472074,17.132349838472074],\"type\":\"scatter\",\"xaxis\":\"x4\",\"yaxis\":\"y4\"},{\"line\":{\"color\":\"grey\",\"dash\":\"dot\"},\"mode\":\"lines\",\"x\":[0,25],\"y\":[14.133499501341452,14.133499501341452],\"type\":\"scatter\",\"xaxis\":\"x4\",\"yaxis\":\"y4\"},{\"line\":{\"color\":\"grey\",\"dash\":\"dot\"},\"mode\":\"lines\",\"x\":[0,74],\"y\":[20.327255558082776,20.327255558082776],\"type\":\"scatter\",\"xaxis\":\"x4\",\"yaxis\":\"y4\"}],                        {\"template\":{\"data\":{\"histogram2dcontour\":[{\"type\":\"histogram2dcontour\",\"colorbar\":{\"outlinewidth\":1,\"ticks\":\"outside\",\"tickcolor\":\"rgb(36,36,36)\"},\"colorscale\":[[0.0,\"#440154\"],[0.1111111111111111,\"#482878\"],[0.2222222222222222,\"#3e4989\"],[0.3333333333333333,\"#31688e\"],[0.4444444444444444,\"#26828e\"],[0.5555555555555556,\"#1f9e89\"],[0.6666666666666666,\"#35b779\"],[0.7777777777777778,\"#6ece58\"],[0.8888888888888888,\"#b5de2b\"],[1.0,\"#fde725\"]]}],\"choropleth\":[{\"type\":\"choropleth\",\"colorbar\":{\"outlinewidth\":1,\"ticks\":\"outside\",\"tickcolor\":\"rgb(36,36,36)\"}}],\"histogram2d\":[{\"type\":\"histogram2d\",\"colorbar\":{\"outlinewidth\":1,\"ticks\":\"outside\",\"tickcolor\":\"rgb(36,36,36)\"},\"colorscale\":[[0.0,\"#440154\"],[0.1111111111111111,\"#482878\"],[0.2222222222222222,\"#3e4989\"],[0.3333333333333333,\"#31688e\"],[0.4444444444444444,\"#26828e\"],[0.5555555555555556,\"#1f9e89\"],[0.6666666666666666,\"#35b779\"],[0.7777777777777778,\"#6ece58\"],[0.8888888888888888,\"#b5de2b\"],[1.0,\"#fde725\"]]}],\"heatmap\":[{\"type\":\"heatmap\",\"colorbar\":{\"outlinewidth\":1,\"ticks\":\"outside\",\"tickcolor\":\"rgb(36,36,36)\"},\"colorscale\":[[0.0,\"#440154\"],[0.1111111111111111,\"#482878\"],[0.2222222222222222,\"#3e4989\"],[0.3333333333333333,\"#31688e\"],[0.4444444444444444,\"#26828e\"],[0.5555555555555556,\"#1f9e89\"],[0.6666666666666666,\"#35b779\"],[0.7777777777777778,\"#6ece58\"],[0.8888888888888888,\"#b5de2b\"],[1.0,\"#fde725\"]]}],\"heatmapgl\":[{\"type\":\"heatmapgl\",\"colorbar\":{\"outlinewidth\":1,\"ticks\":\"outside\",\"tickcolor\":\"rgb(36,36,36)\"},\"colorscale\":[[0.0,\"#440154\"],[0.1111111111111111,\"#482878\"],[0.2222222222222222,\"#3e4989\"],[0.3333333333333333,\"#31688e\"],[0.4444444444444444,\"#26828e\"],[0.5555555555555556,\"#1f9e89\"],[0.6666666666666666,\"#35b779\"],[0.7777777777777778,\"#6ece58\"],[0.8888888888888888,\"#b5de2b\"],[1.0,\"#fde725\"]]}],\"contourcarpet\":[{\"type\":\"contourcarpet\",\"colorbar\":{\"outlinewidth\":1,\"ticks\":\"outside\",\"tickcolor\":\"rgb(36,36,36)\"}}],\"contour\":[{\"type\":\"contour\",\"colorbar\":{\"outlinewidth\":1,\"ticks\":\"outside\",\"tickcolor\":\"rgb(36,36,36)\"},\"colorscale\":[[0.0,\"#440154\"],[0.1111111111111111,\"#482878\"],[0.2222222222222222,\"#3e4989\"],[0.3333333333333333,\"#31688e\"],[0.4444444444444444,\"#26828e\"],[0.5555555555555556,\"#1f9e89\"],[0.6666666666666666,\"#35b779\"],[0.7777777777777778,\"#6ece58\"],[0.8888888888888888,\"#b5de2b\"],[1.0,\"#fde725\"]]}],\"surface\":[{\"type\":\"surface\",\"colorbar\":{\"outlinewidth\":1,\"ticks\":\"outside\",\"tickcolor\":\"rgb(36,36,36)\"},\"colorscale\":[[0.0,\"#440154\"],[0.1111111111111111,\"#482878\"],[0.2222222222222222,\"#3e4989\"],[0.3333333333333333,\"#31688e\"],[0.4444444444444444,\"#26828e\"],[0.5555555555555556,\"#1f9e89\"],[0.6666666666666666,\"#35b779\"],[0.7777777777777778,\"#6ece58\"],[0.8888888888888888,\"#b5de2b\"],[1.0,\"#fde725\"]]}],\"mesh3d\":[{\"type\":\"mesh3d\",\"colorbar\":{\"outlinewidth\":1,\"ticks\":\"outside\",\"tickcolor\":\"rgb(36,36,36)\"}}],\"scatter\":[{\"fillpattern\":{\"fillmode\":\"overlay\",\"size\":10,\"solidity\":0.2},\"type\":\"scatter\"}],\"parcoords\":[{\"type\":\"parcoords\",\"line\":{\"colorbar\":{\"outlinewidth\":1,\"ticks\":\"outside\",\"tickcolor\":\"rgb(36,36,36)\"}}}],\"scatterpolargl\":[{\"type\":\"scatterpolargl\",\"marker\":{\"colorbar\":{\"outlinewidth\":1,\"ticks\":\"outside\",\"tickcolor\":\"rgb(36,36,36)\"}}}],\"bar\":[{\"error_x\":{\"color\":\"rgb(36,36,36)\"},\"error_y\":{\"color\":\"rgb(36,36,36)\"},\"marker\":{\"line\":{\"color\":\"white\",\"width\":0.5},\"pattern\":{\"fillmode\":\"overlay\",\"size\":10,\"solidity\":0.2}},\"type\":\"bar\"}],\"scattergeo\":[{\"type\":\"scattergeo\",\"marker\":{\"colorbar\":{\"outlinewidth\":1,\"ticks\":\"outside\",\"tickcolor\":\"rgb(36,36,36)\"}}}],\"scatterpolar\":[{\"type\":\"scatterpolar\",\"marker\":{\"colorbar\":{\"outlinewidth\":1,\"ticks\":\"outside\",\"tickcolor\":\"rgb(36,36,36)\"}}}],\"histogram\":[{\"marker\":{\"pattern\":{\"fillmode\":\"overlay\",\"size\":10,\"solidity\":0.2},\"line\":{\"color\":\"white\",\"width\":0.6}},\"type\":\"histogram\"}],\"scattergl\":[{\"type\":\"scattergl\",\"marker\":{\"colorbar\":{\"outlinewidth\":1,\"ticks\":\"outside\",\"tickcolor\":\"rgb(36,36,36)\"}}}],\"scatter3d\":[{\"type\":\"scatter3d\",\"line\":{\"colorbar\":{\"outlinewidth\":1,\"ticks\":\"outside\",\"tickcolor\":\"rgb(36,36,36)\"}},\"marker\":{\"colorbar\":{\"outlinewidth\":1,\"ticks\":\"outside\",\"tickcolor\":\"rgb(36,36,36)\"}}}],\"scattermapbox\":[{\"type\":\"scattermapbox\",\"marker\":{\"colorbar\":{\"outlinewidth\":1,\"ticks\":\"outside\",\"tickcolor\":\"rgb(36,36,36)\"}}}],\"scatterternary\":[{\"type\":\"scatterternary\",\"marker\":{\"colorbar\":{\"outlinewidth\":1,\"ticks\":\"outside\",\"tickcolor\":\"rgb(36,36,36)\"}}}],\"scattercarpet\":[{\"type\":\"scattercarpet\",\"marker\":{\"colorbar\":{\"outlinewidth\":1,\"ticks\":\"outside\",\"tickcolor\":\"rgb(36,36,36)\"}}}],\"carpet\":[{\"aaxis\":{\"endlinecolor\":\"rgb(36,36,36)\",\"gridcolor\":\"white\",\"linecolor\":\"white\",\"minorgridcolor\":\"white\",\"startlinecolor\":\"rgb(36,36,36)\"},\"baxis\":{\"endlinecolor\":\"rgb(36,36,36)\",\"gridcolor\":\"white\",\"linecolor\":\"white\",\"minorgridcolor\":\"white\",\"startlinecolor\":\"rgb(36,36,36)\"},\"type\":\"carpet\"}],\"table\":[{\"cells\":{\"fill\":{\"color\":\"rgb(237,237,237)\"},\"line\":{\"color\":\"white\"}},\"header\":{\"fill\":{\"color\":\"rgb(217,217,217)\"},\"line\":{\"color\":\"white\"}},\"type\":\"table\"}],\"barpolar\":[{\"marker\":{\"line\":{\"color\":\"white\",\"width\":0.5},\"pattern\":{\"fillmode\":\"overlay\",\"size\":10,\"solidity\":0.2}},\"type\":\"barpolar\"}],\"pie\":[{\"automargin\":true,\"type\":\"pie\"}]},\"layout\":{\"autotypenumbers\":\"strict\",\"colorway\":[\"#1F77B4\",\"#FF7F0E\",\"#2CA02C\",\"#D62728\",\"#9467BD\",\"#8C564B\",\"#E377C2\",\"#7F7F7F\",\"#BCBD22\",\"#17BECF\"],\"font\":{\"color\":\"rgb(36,36,36)\"},\"hovermode\":\"closest\",\"hoverlabel\":{\"align\":\"left\"},\"paper_bgcolor\":\"white\",\"plot_bgcolor\":\"white\",\"polar\":{\"bgcolor\":\"white\",\"angularaxis\":{\"gridcolor\":\"rgb(232,232,232)\",\"linecolor\":\"rgb(36,36,36)\",\"ticks\":\"outside\",\"showgrid\":false,\"showline\":true},\"radialaxis\":{\"gridcolor\":\"rgb(232,232,232)\",\"linecolor\":\"rgb(36,36,36)\",\"ticks\":\"outside\",\"showgrid\":false,\"showline\":true}},\"ternary\":{\"bgcolor\":\"white\",\"aaxis\":{\"gridcolor\":\"rgb(232,232,232)\",\"linecolor\":\"rgb(36,36,36)\",\"ticks\":\"outside\",\"showgrid\":false,\"showline\":true},\"baxis\":{\"gridcolor\":\"rgb(232,232,232)\",\"linecolor\":\"rgb(36,36,36)\",\"ticks\":\"outside\",\"showgrid\":false,\"showline\":true},\"caxis\":{\"gridcolor\":\"rgb(232,232,232)\",\"linecolor\":\"rgb(36,36,36)\",\"ticks\":\"outside\",\"showgrid\":false,\"showline\":true}},\"coloraxis\":{\"colorbar\":{\"outlinewidth\":1,\"ticks\":\"outside\",\"tickcolor\":\"rgb(36,36,36)\"}},\"colorscale\":{\"sequential\":[[0.0,\"#440154\"],[0.1111111111111111,\"#482878\"],[0.2222222222222222,\"#3e4989\"],[0.3333333333333333,\"#31688e\"],[0.4444444444444444,\"#26828e\"],[0.5555555555555556,\"#1f9e89\"],[0.6666666666666666,\"#35b779\"],[0.7777777777777778,\"#6ece58\"],[0.8888888888888888,\"#b5de2b\"],[1.0,\"#fde725\"]],\"sequentialminus\":[[0.0,\"#440154\"],[0.1111111111111111,\"#482878\"],[0.2222222222222222,\"#3e4989\"],[0.3333333333333333,\"#31688e\"],[0.4444444444444444,\"#26828e\"],[0.5555555555555556,\"#1f9e89\"],[0.6666666666666666,\"#35b779\"],[0.7777777777777778,\"#6ece58\"],[0.8888888888888888,\"#b5de2b\"],[1.0,\"#fde725\"]],\"diverging\":[[0.0,\"rgb(103,0,31)\"],[0.1,\"rgb(178,24,43)\"],[0.2,\"rgb(214,96,77)\"],[0.3,\"rgb(244,165,130)\"],[0.4,\"rgb(253,219,199)\"],[0.5,\"rgb(247,247,247)\"],[0.6,\"rgb(209,229,240)\"],[0.7,\"rgb(146,197,222)\"],[0.8,\"rgb(67,147,195)\"],[0.9,\"rgb(33,102,172)\"],[1.0,\"rgb(5,48,97)\"]]},\"xaxis\":{\"gridcolor\":\"rgb(232,232,232)\",\"linecolor\":\"rgb(36,36,36)\",\"ticks\":\"outside\",\"title\":{\"standoff\":15},\"zerolinecolor\":\"rgb(36,36,36)\",\"automargin\":true,\"zerolinewidth\":2,\"showgrid\":false,\"showline\":true,\"zeroline\":false},\"yaxis\":{\"gridcolor\":\"rgb(232,232,232)\",\"linecolor\":\"rgb(36,36,36)\",\"ticks\":\"outside\",\"title\":{\"standoff\":15},\"zerolinecolor\":\"rgb(36,36,36)\",\"automargin\":true,\"zerolinewidth\":2,\"showgrid\":false,\"showline\":true,\"zeroline\":false},\"scene\":{\"xaxis\":{\"backgroundcolor\":\"white\",\"gridcolor\":\"rgb(232,232,232)\",\"linecolor\":\"rgb(36,36,36)\",\"showbackground\":true,\"ticks\":\"outside\",\"zerolinecolor\":\"rgb(36,36,36)\",\"gridwidth\":2,\"showgrid\":false,\"showline\":true,\"zeroline\":false},\"yaxis\":{\"backgroundcolor\":\"white\",\"gridcolor\":\"rgb(232,232,232)\",\"linecolor\":\"rgb(36,36,36)\",\"showbackground\":true,\"ticks\":\"outside\",\"zerolinecolor\":\"rgb(36,36,36)\",\"gridwidth\":2,\"showgrid\":false,\"showline\":true,\"zeroline\":false},\"zaxis\":{\"backgroundcolor\":\"white\",\"gridcolor\":\"rgb(232,232,232)\",\"linecolor\":\"rgb(36,36,36)\",\"showbackground\":true,\"ticks\":\"outside\",\"zerolinecolor\":\"rgb(36,36,36)\",\"gridwidth\":2,\"showgrid\":false,\"showline\":true,\"zeroline\":false}},\"shapedefaults\":{\"line\":{\"color\":\"#2a3f5f\",\"width\":0},\"fillcolor\":\"black\",\"opacity\":0.3},\"annotationdefaults\":{\"arrowcolor\":\"#2a3f5f\",\"arrowhead\":0,\"arrowwidth\":1},\"geo\":{\"bgcolor\":\"white\",\"landcolor\":\"white\",\"subunitcolor\":\"white\",\"showland\":true,\"showlakes\":true,\"lakecolor\":\"white\"},\"title\":{\"x\":0.05},\"mapbox\":{\"style\":\"light\"}}},\"xaxis\":{\"anchor\":\"y\",\"domain\":[0.0,0.41000000000000003],\"tickfont\":{\"size\":16},\"title\":{\"font\":{\"size\":20},\"text\":\"Iteration number\"},\"mirror\":true,\"showgrid\":true,\"showline\":true},\"yaxis\":{\"anchor\":\"x\",\"domain\":[0.625,1.0],\"tickfont\":{\"size\":16},\"title\":{\"font\":{\"size\":20},\"text\":\"NP [$]\"},\"mirror\":true,\"showgrid\":true,\"showline\":true,\"tickformat\":\".2f\"},\"xaxis2\":{\"anchor\":\"y2\",\"domain\":[0.5900000000000001,1.0],\"tickfont\":{\"size\":16},\"title\":{\"font\":{\"size\":20},\"text\":\"Iteration number\"},\"mirror\":true,\"showgrid\":true,\"showline\":true},\"yaxis2\":{\"anchor\":\"x2\",\"domain\":[0.625,1.0],\"tickfont\":{\"size\":16},\"title\":{\"font\":{\"size\":20},\"text\":\"Max DD [$]\"},\"mirror\":true,\"showgrid\":true,\"showline\":true,\"tickformat\":\".2f\"},\"xaxis3\":{\"anchor\":\"y3\",\"domain\":[0.0,0.41000000000000003],\"tickfont\":{\"size\":16},\"title\":{\"font\":{\"size\":20},\"text\":\"Iteration number\"},\"mirror\":true,\"showgrid\":true,\"showline\":true},\"yaxis3\":{\"anchor\":\"x3\",\"domain\":[0.0,0.375],\"tickfont\":{\"size\":16},\"title\":{\"font\":{\"size\":20},\"text\":\"Avg. DD [$]\"},\"mirror\":true,\"showgrid\":true,\"showline\":true,\"tickformat\":\".2f\"},\"xaxis4\":{\"anchor\":\"y4\",\"domain\":[0.5900000000000001,1.0],\"tickfont\":{\"size\":16},\"title\":{\"font\":{\"size\":20},\"text\":\"Iteration number\"},\"mirror\":true,\"showgrid\":true,\"showline\":true},\"yaxis4\":{\"anchor\":\"x4\",\"domain\":[0.0,0.375],\"tickfont\":{\"size\":16},\"title\":{\"font\":{\"size\":20},\"text\":\"NP/DD\"},\"mirror\":true,\"showgrid\":true,\"showline\":true,\"tickformat\":\".1f\"},\"font\":{\"size\":28},\"margin\":{\"b\":20,\"l\":20,\"r\":20,\"t\":20},\"autosize\":false,\"height\":600,\"hovermode\":\"closest\",\"showlegend\":false,\"width\":1200,\"annotations\":[{\"font\":{\"color\":\"gray\",\"size\":14},\"showarrow\":false,\"text\":\"Q2\",\"x\":25.0,\"xref\":\"x\",\"y\":705011.2589847804,\"yref\":\"y\",\"yshift\":14},{\"font\":{\"color\":\"gray\",\"size\":14},\"showarrow\":false,\"text\":\"Q1\",\"x\":12.5,\"xref\":\"x\",\"y\":695199.0154387227,\"yref\":\"y\",\"yshift\":14},{\"font\":{\"color\":\"gray\",\"size\":14},\"showarrow\":false,\"text\":\"Q3\",\"x\":37.0,\"xref\":\"x\",\"y\":717181.0769364606,\"yref\":\"y\",\"yshift\":14},{\"font\":{\"color\":\"gray\",\"size\":14},\"showarrow\":false,\"text\":\"Q2\",\"x\":24.5,\"xref\":\"x2\",\"y\":41545.461633960615,\"yref\":\"y2\",\"yshift\":14},{\"font\":{\"color\":\"gray\",\"size\":14},\"showarrow\":false,\"text\":\"Q1\",\"x\":12.5,\"xref\":\"x2\",\"y\":34961.46630917952,\"yref\":\"y2\",\"yshift\":14},{\"font\":{\"color\":\"gray\",\"size\":14},\"showarrow\":false,\"text\":\"Q3\",\"x\":37.0,\"xref\":\"x2\",\"y\":49816.160017254384,\"yref\":\"y2\",\"yshift\":14},{\"font\":{\"color\":\"gray\",\"size\":14},\"showarrow\":false,\"text\":\"Q2\",\"x\":24.5,\"xref\":\"x3\",\"y\":7471.533702646085,\"yref\":\"y3\",\"yshift\":14},{\"font\":{\"color\":\"gray\",\"size\":14},\"showarrow\":false,\"text\":\"Q1\",\"x\":12.5,\"xref\":\"x3\",\"y\":6896.285455113206,\"yref\":\"y3\",\"yshift\":14},{\"font\":{\"color\":\"gray\",\"size\":14},\"showarrow\":false,\"text\":\"Q3\",\"x\":37.0,\"xref\":\"x3\",\"y\":8636.926612493065,\"yref\":\"y3\",\"yshift\":14},{\"font\":{\"color\":\"gray\",\"size\":14},\"showarrow\":false,\"text\":\"Q2\",\"x\":25.0,\"xref\":\"x4\",\"y\":17.132349838472074,\"yref\":\"y4\",\"yshift\":14},{\"font\":{\"color\":\"gray\",\"size\":14},\"showarrow\":false,\"text\":\"Q1\",\"x\":12.5,\"xref\":\"x4\",\"y\":14.133499501341452,\"yref\":\"y4\",\"yshift\":14},{\"font\":{\"color\":\"gray\",\"size\":14},\"showarrow\":false,\"text\":\"Q3\",\"x\":37.0,\"xref\":\"x4\",\"y\":20.327255558082776,\"yref\":\"y4\",\"yshift\":14}]},                        {\"responsive\": true}                    ).then(function(){\n",
       "                            \n",
       "var gd = document.getElementById('e17efa1a-d1d5-4e5d-8ad6-3aece5f56b95');\n",
       "var x = new MutationObserver(function (mutations, observer) {{\n",
       "        var display = window.getComputedStyle(gd).display;\n",
       "        if (!display || display === 'none') {{\n",
       "            console.log([gd, 'removed!']);\n",
       "            Plotly.purge(gd);\n",
       "            observer.disconnect();\n",
       "        }}\n",
       "}});\n",
       "\n",
       "// Listen for the removal of the full notebook cells\n",
       "var notebookContainer = gd.closest('#notebook-container');\n",
       "if (notebookContainer) {{\n",
       "    x.observe(notebookContainer, {childList: true});\n",
       "}}\n",
       "\n",
       "// Listen for the clearing of the current output cell\n",
       "var outputEl = gd.closest('.output');\n",
       "if (outputEl) {{\n",
       "    x.observe(outputEl, {childList: true});\n",
       "}}\n",
       "\n",
       "                        })                };                });            </script>        </div>"
      ]
     },
     "metadata": {},
     "output_type": "display_data"
    }
   ],
   "source": [
    "figure = make_subplots(rows = 2, cols = 2, vertical_spacing = 0.25, horizontal_spacing = 0.18)\n",
    "figure.update_layout(go.Layout(margin = dict(l = 20, r = 20, t = 20, b = 20), template = 'simple_white', showlegend = False,\n",
    "                               xaxis1 = {'showgrid': True, 'showline': True, 'mirror': True, 'titlefont': {'size': 20}, 'tickfont': {'size': 16}, 'title': 'Iteration number'},\n",
    "                               yaxis1 = {'showgrid': True, 'showline': True, 'mirror': True, 'titlefont': {'size': 20}, 'tickfont': {'size': 16},\n",
    "                                        'tickformat': f'.{2}f', 'title': 'NP [$]'},\n",
    "                               xaxis2 = {'showgrid': True, 'showline': True, 'mirror': True, 'titlefont': {'size': 20}, 'tickfont': {'size': 16}, 'title': 'Iteration number'},\n",
    "                               yaxis2 = {'showgrid': True, 'showline': True, 'mirror': True, 'titlefont': {'size': 20}, 'tickfont': {'size': 16},\n",
    "                                        'tickformat': f'.{2}f', 'title': 'Max DD [$]'},\n",
    "                               xaxis3 = {'showgrid': True, 'showline': True, 'mirror': True, 'titlefont': {'size': 20}, 'tickfont': {'size': 16}, 'title': 'Iteration number'},\n",
    "                               yaxis3 = {'showgrid': True, 'showline': True, 'mirror': True, 'titlefont': {'size': 20}, 'tickfont': {'size': 16},\n",
    "                                        'tickformat': f'.{2}f', 'title': 'Avg. DD [$]'},\n",
    "                               xaxis4 = {'showgrid': True, 'showline': True, 'mirror': True, 'titlefont': {'size': 20}, 'tickfont': {'size': 16}, 'title': 'Iteration number'},\n",
    "                               yaxis4 = {'showgrid': True, 'showline': True, 'mirror': True, 'titlefont': {'size': 20}, 'tickfont': {'size': 16},\n",
    "                                        'tickformat': f'.{1}f', 'title': 'NP/DD'},\n",
    "                               font = {'size': 28}, autosize = False, width = 1200, height = 600, hovermode = 'closest'))\n",
    "#\n",
    "list_np_mc = np.sort([i['cum_profit'].values[-1] for i in list_mc])\n",
    "figure.add_trace(go.Scatter(x = np.arange(len(list_mc)), y = np.sort([i['cum_profit'].values[-1] for i in list_mc]), mode = 'lines', line_color = 'blue'), row = 1, col = 1)\n",
    "figure.add_trace(go.Scatter(x = [np.argmin(abs(list_np_mc - df_port['cum_profit'].values[-1]))],\n",
    "                            y = [df_port['cum_profit'].values[-1]], marker_color = 'red', marker_size = 10), row = 1, col = 1)\n",
    "figure.add_trace(go.Scatter(x = [0, np.argmin(abs(list_np_mc - np.quantile(list_np_mc, 0.5)))],\n",
    "                            y = [np.quantile(list_np_mc, 0.5)]*2, mode = 'lines', line_color = 'grey', line_dash = 'dash'), row = 1, col = 1)\n",
    "figure.add_annotation(x = np.argmin(abs(list_np_mc - np.quantile(list_np_mc, 0.5)))/2, y = np.quantile(list_np_mc, 0.5), text = 'Q2', showarrow = False, yshift = 14,\n",
    "                      font = {'size': 14, 'color': 'gray'}, row = 1, col = 1)\n",
    "figure.add_trace(go.Scatter(x = [0, np.argmin(abs(list_np_mc - np.quantile(list_np_mc, 0.25)))],\n",
    "                            y = [np.quantile(list_np_mc, 0.25)]*2, mode = 'lines', line_color = 'grey', line_dash = 'dot'), row = 1, col = 1)\n",
    "figure.add_annotation(x = np.argmin(abs(list_np_mc - np.quantile(list_np_mc, 0.25)))/2, y = np.quantile(list_np_mc, 0.25), text = 'Q1', showarrow = False, yshift = 14,\n",
    "                      font = {'size': 14, 'color': 'gray'}, row = 1, col = 1)\n",
    "figure.add_trace(go.Scatter(x = [0, np.argmin(abs(list_np_mc - np.quantile(list_np_mc, 0.75)))],\n",
    "                            y = [np.quantile(list_np_mc, 0.75)]*2, mode = 'lines', line_color = 'grey', line_dash = 'dot'), row = 1, col = 1)\n",
    "figure.add_annotation(x = np.argmin(abs(list_np_mc - np.quantile(list_np_mc, 0.75)))/2, y = np.quantile(list_np_mc, 0.75), text = 'Q3', showarrow = False, yshift = 14,\n",
    "                      font = {'size': 14, 'color': 'gray'}, row = 1, col = 1)\n",
    "#\n",
    "list_dd_mc = np.sort([-i['dd'].min() for i in list_mc])\n",
    "figure.add_trace(go.Scatter(x = np.arange(len(list_mc)), y = np.sort([-i['dd'].min() for i in list_mc]), mode = 'lines', line_color = 'blue'), row = 1, col = 2)\n",
    "figure.add_trace(go.Scatter(x = [np.argmin(abs(list_dd_mc - -df_port['dd'].min()))],\n",
    "                            y = [-df_port['dd'].min()], marker_color = 'red', marker_size = 10), row = 1, col = 2)\n",
    "figure.add_trace(go.Scatter(x = [0, np.argmin(abs(list_dd_mc - np.quantile(list_dd_mc, 0.5)))],\n",
    "                            y = [np.quantile(list_dd_mc, 0.5)]*2, mode = 'lines', line_color = 'grey', line_dash = 'dash'), row = 1, col = 2)\n",
    "figure.add_annotation(x = np.argmin(abs(list_dd_mc - np.quantile(list_dd_mc, 0.5)))/2, y = np.quantile(list_dd_mc, 0.5), text = 'Q2', showarrow = False, yshift = 14,\n",
    "                      font = {'size': 14, 'color': 'gray'}, row = 1, col = 2)\n",
    "figure.add_trace(go.Scatter(x = [0, np.argmin(abs(list_dd_mc - np.quantile(list_dd_mc, 0.25)))],\n",
    "                            y = [np.quantile(list_dd_mc, 0.25)]*2, mode = 'lines', line_color = 'grey', line_dash = 'dot'), row = 1, col = 2)\n",
    "figure.add_annotation(x = np.argmin(abs(list_dd_mc - np.quantile(list_dd_mc, 0.25)))/2, y = np.quantile(list_dd_mc, 0.25), text = 'Q1', showarrow = False, yshift = 14,\n",
    "                      font = {'size': 14, 'color': 'gray'}, row = 1, col = 2)\n",
    "figure.add_trace(go.Scatter(x = [0, np.argmin(abs(list_dd_mc - np.quantile(list_dd_mc, 0.75)))],\n",
    "                            y = [np.quantile(list_dd_mc, 0.75)]*2, mode = 'lines', line_color = 'grey', line_dash = 'dot'), row = 1, col = 2)\n",
    "figure.add_annotation(x = np.argmin(abs(list_dd_mc - np.quantile(list_dd_mc, 0.75)))/2, y = np.quantile(list_dd_mc, 0.75), text = 'Q3', showarrow = False, yshift = 14,\n",
    "                      font = {'size': 14, 'color': 'gray'}, row = 1, col = 2)\n",
    "#\n",
    "list_dd_avg_mc = np.sort([-i['dd'].mean() for i in list_mc])\n",
    "figure.add_trace(go.Scatter(x = np.arange(len(list_mc)), y = np.sort([-i['dd'].mean() for i in list_mc]), mode = 'lines', line_color = 'blue'), row = 2, col = 1)\n",
    "figure.add_trace(go.Scatter(x = [np.argmin(abs(list_dd_avg_mc - -df_port['dd'].mean()))],\n",
    "                            y = [-df_port['dd'].mean()], marker_color = 'red', marker_size = 10), row = 2, col = 1)\n",
    "figure.add_trace(go.Scatter(x = [0, np.argmin(abs(list_dd_avg_mc - np.quantile(list_dd_avg_mc, 0.5)))],\n",
    "                            y = [np.quantile(list_dd_avg_mc, 0.5)]*2, mode = 'lines', line_color = 'grey', line_dash = 'dash'), row = 2, col = 1)\n",
    "figure.add_annotation(x = np.argmin(abs(list_dd_avg_mc - np.quantile(list_dd_avg_mc, 0.5)))/2, y = np.quantile(list_dd_avg_mc, 0.5), text = 'Q2', showarrow = False, yshift = 14,\n",
    "                      font = {'size': 14, 'color': 'gray'}, row = 2, col = 1)\n",
    "figure.add_trace(go.Scatter(x = [0, np.argmin(abs(list_dd_avg_mc - np.quantile(list_dd_avg_mc, 0.25)))],\n",
    "                            y = [np.quantile(list_dd_avg_mc, 0.25)]*2, mode = 'lines', line_color = 'grey', line_dash = 'dot'), row = 2, col = 1)\n",
    "figure.add_annotation(x = np.argmin(abs(list_dd_avg_mc - np.quantile(list_dd_avg_mc, 0.25)))/2, y = np.quantile(list_dd_avg_mc, 0.25), text = 'Q1', showarrow = False, yshift = 14,\n",
    "                      font = {'size': 14, 'color': 'gray'}, row = 2, col = 1)\n",
    "figure.add_trace(go.Scatter(x = [0, np.argmin(abs(list_dd_avg_mc - np.quantile(list_dd_avg_mc, 0.75)))],\n",
    "                            y = [np.quantile(list_dd_avg_mc, 0.75)]*2, mode = 'lines', line_color = 'grey', line_dash = 'dot'), row = 2, col = 1)\n",
    "figure.add_annotation(x = np.argmin(abs(list_dd_avg_mc - np.quantile(list_dd_avg_mc, 0.75)))/2, y = np.quantile(list_dd_avg_mc, 0.75), text = 'Q3', showarrow = False, yshift = 14,\n",
    "                      font = {'size': 14, 'color': 'gray'}, row = 2, col = 1)\n",
    "#\n",
    "list_np_dd_mc = np.sort([-i['cum_profit'].values[-1]/i['dd'].min() for i in list_mc])\n",
    "figure.add_trace(go.Scatter(x = np.arange(len(list_mc)), y = list_np_dd_mc, mode = 'lines', line_color = 'blue'), row = 2, col = 2)\n",
    "figure.add_trace(go.Scatter(x = [np.argmin(abs(list_np_dd_mc - -df_port['cum_profit'].values[-1]/df_port['dd'].min()))],\n",
    "                            y = [-df_port['cum_profit'].values[-1]/df_port['dd'].min()], marker_color = 'red', marker_size = 10), row = 2, col = 2)\n",
    "figure.add_trace(go.Scatter(x = [0, np.argmin(abs(list_np_dd_mc - np.quantile(list_np_dd_mc, 0.5)))],\n",
    "                            y = [np.quantile(list_np_dd_mc, 0.5)]*2, mode = 'lines', line_color = 'grey', line_dash = 'dash'), row = 2, col = 2)\n",
    "figure.add_annotation(x = np.argmin(abs(list_np_dd_mc - np.quantile(list_np_dd_mc, 0.5)))/2, y = np.quantile(list_np_dd_mc, 0.5), text = 'Q2', showarrow = False, yshift = 14,\n",
    "                      font = {'size': 14, 'color': 'gray'}, row = 2, col = 2)\n",
    "figure.add_trace(go.Scatter(x = [0, np.argmin(abs(list_np_dd_mc - np.quantile(list_np_dd_mc, 0.25)))],\n",
    "                            y = [np.quantile(list_np_dd_mc, 0.25)]*2, mode = 'lines', line_color = 'grey', line_dash = 'dot'), row = 2, col = 2)\n",
    "figure.add_annotation(x = np.argmin(abs(list_np_dd_mc - np.quantile(list_np_dd_mc, 0.25)))/2, y = np.quantile(list_np_dd_mc, 0.25), text = 'Q1', showarrow = False, yshift = 14,\n",
    "                      font = {'size': 14, 'color': 'gray'}, row = 2, col = 2)\n",
    "figure.add_trace(go.Scatter(x = [0, np.argmin(abs(list_np_dd_mc - np.quantile(list_np_dd_mc, 0.75)))],\n",
    "                            y = [np.quantile(list_np_dd_mc, 0.75)]*2, mode = 'lines', line_color = 'grey', line_dash = 'dot'), row = 2, col = 2)\n",
    "figure.add_annotation(x = np.argmin(abs(list_np_dd_mc - np.quantile(list_np_dd_mc, 0.75)))/2, y = np.quantile(list_np_dd_mc, 0.75), text = 'Q3', showarrow = False, yshift = 14,\n",
    "                      font = {'size': 14, 'color': 'gray'}, row = 2, col = 2)"
   ]
  }
 ],
 "metadata": {
  "kernelspec": {
   "display_name": "trading",
   "language": "python",
   "name": "trading"
  },
  "language_info": {
   "codemirror_mode": {
    "name": "ipython",
    "version": 3
   },
   "file_extension": ".py",
   "mimetype": "text/x-python",
   "name": "python",
   "nbconvert_exporter": "python",
   "pygments_lexer": "ipython3",
   "version": "3.10.13"
  }
 },
 "nbformat": 4,
 "nbformat_minor": 5
}
